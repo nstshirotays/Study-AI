{
  "nbformat": 4,
  "nbformat_minor": 0,
  "metadata": {
    "colab": {
      "name": "AI勉強会V2.1",
      "provenance": [],
      "collapsed_sections": [
        "Mmx0g2eG6NXt",
        "g5PqkPWW1nz7"
      ],
      "toc_visible": true,
      "include_colab_link": true
    },
    "kernelspec": {
      "name": "python3",
      "display_name": "Python 3"
    },
    "accelerator": "GPU"
  },
  "cells": [
    {
      "cell_type": "markdown",
      "metadata": {
        "id": "view-in-github",
        "colab_type": "text"
      },
      "source": [
        "<a href=\"https://colab.research.google.com/github/nstshirotays/Study-AI/blob/master/AI%E5%8B%89%E5%BC%B7%E4%BC%9AV2_1.ipynb\" target=\"_parent\"><img src=\"https://colab.research.google.com/assets/colab-badge.svg\" alt=\"Open In Colab\"/></a>"
      ]
    },
    {
      "cell_type": "markdown",
      "metadata": {
        "id": "-USdFhOfX6MW",
        "colab_type": "text"
      },
      "source": [
        "# AI勉強会\n",
        "この勉強会では O'REILLY「ゼロから作る Deep Learning」について解説を行い内容の理解を深めることを目的としています。\n",
        "\n",
        "## 本日のキーワード\n",
        "* 活性化関数\n",
        "* ソフトマックス\n",
        "* 交差エントロピー\n",
        "* 勾配降下法\n",
        "* 学習率\n",
        "* イテレーション、エポック数\n",
        "* ミニバッチ\n",
        "* バックプロパゲーション\n",
        "\n",
        "<hr>\n",
        "学習の準備として下記を実行して下さい\n"
      ]
    },
    {
      "cell_type": "code",
      "metadata": {
        "id": "_-PZLcS7KCHW",
        "colab_type": "code",
        "colab": {}
      },
      "source": [
        "!git clone https://github.com/oreilly-japan/deep-learning-from-scratch.git"
      ],
      "execution_count": 0,
      "outputs": []
    },
    {
      "cell_type": "markdown",
      "metadata": {
        "id": "IfqLQnfynLnC",
        "colab_type": "text"
      },
      "source": [
        "# パーセプトロン\n",
        "ハイ・ローの電気信号による演算を行うCPUの内部構成は、ANDやOR演算を行う論理素子の集合体である。心理学者・計算機科学者のフランク・ローゼンブラットは、人間の脳内でもこのような演算素子と同様のプロセスが、生物学的原理で動作すると想定した。そして実際に回路を作成し画像の学習処理を行った（1957年）"
      ]
    },
    {
      "cell_type": "markdown",
      "metadata": {
        "id": "O3ihZ8xE6aCN",
        "colab_type": "text"
      },
      "source": [
        "## パーセプトロンの概要\n",
        "\n",
        "\n",
        "![論理記号](https://docs.google.com/drawings/d/e/2PACX-1vQ2SKuRbOhYXSsd1vbFCWV3iJzEBX2LUoM6QSHY6jpWt1hiOzBMgbzeRm-Pqs5yS-qdAoZBO57Jxr4G/pub?w=390&h=365)\n",
        "\n",
        "電気回路的な演算素子はそれぞれに実体が異なるが、脳内ではすべて同様の組織体から構成されると想定し、同一の細胞（ニューロン）が外部のコントロールにより様々な２値（真偽値）を出力すると考察し、まずはニューロンを下記のようにモデル化した。\n",
        "\n",
        "![ニューロンモデル](https://docs.google.com/drawings/d/e/2PACX-1vSinEodXTx3n5L_cMTGqzbDcKC1y6ncEjm0vjk5wHCiDPIT476aqJxuNiiniflzJvy0zjylvyEz0vTP/pub?w=302&h=75)\n",
        "\n",
        "\n",
        "この円形はニューロンを表す。ニューロンへの入力は矢印で表され、それぞれの入力信号に対して重み付けがされる。これらの情報を元にニューロンYは入力データに重みを乗算した値を閾値θと比較して出力を０か１の二値に振り分ける。これを一般化し下記のような構成にしたものがパーセプトロンである。\n",
        "\n",
        "![パーセプトロン](https://docs.google.com/drawings/d/e/2PACX-1vSpMVD85wOprci70XqNYFpaA3gNI_rTRVezumjEJ6trAHQ6qMq7gPA-PH7bDzHfOkMb-pEKQXxSOvs_/pub?w=302&h=220)\n",
        "\n",
        "パーセプトロンでは、複数のニューロンからの入力値（X1、X2、、、）にそれぞれの重み（W1、W2、、、、）を掛けた値を合算し、さらに前述のモデルで閾値θを外部からの入力値として引き出す。これをバイアスと改めて再定義し、それらの総合計がゼロ以下であればゼロを、そうでなければ１を結果として出力するというモデルである。\n",
        "\n",
        "CPUにおける演算素子はそれぞれ固有のデバイスであるが、このパーセプトロンでは信号の重みであるWとバイアス値であるｂの値を工夫することで、ニューロンの構成を変えずにAND、OR、NANDの演算を行うことができる。\n",
        "\n",
        "この発見により、神経伝達をそのモデルとしたパーセプトロンはコンピューターのCPUと等価と見なせる事となり、人間の脳活動をコンピューターで摸倣できる可能性が示された。\n",
        "\n"
      ]
    },
    {
      "cell_type": "markdown",
      "metadata": {
        "id": "H-RfG8FikpGb",
        "colab_type": "text"
      },
      "source": [
        "## ANDパーセプトロンの例\n",
        "X1とX2のAND（論理積）Yは以下の表の通りとなる。\n",
        "\n",
        "![真理値（AND)](https://docs.google.com/drawings/d/e/2PACX-1vRBDAVLdjYPZdwKgzW7KjJChXCcVpuf2F4BV37uJsMeq9RiKaEOiBm1ku6IWWPfIIAoYMAsXsFP5y4r/pub?w=110&h=104)\n",
        "\n",
        "これをパーセプトロンで実現する場合は例として下記のように重みWとバイアスｂを設定する。\n",
        "\n",
        "![ANDパーセプトロン](https://docs.google.com/drawings/d/e/2PACX-1vS0_fzuAskoeaRAzwEG5YW7YVbXQbVppfbPCA64l-KFjYmMjRuCpsCgvR1Y-k2p24j3Ods_0WE_NumA/pub?w=302&h=220)\n",
        "\n",
        "\n",
        "実際にpythonで実装を行う。\n",
        "\n",
        "\n",
        "\n"
      ]
    },
    {
      "cell_type": "code",
      "metadata": {
        "id": "LwcofQZYpQ7i",
        "colab_type": "code",
        "outputId": "52e4bb87-ab6a-4770-a53b-ecb941aebd5a",
        "colab": {
          "base_uri": "https://localhost:8080/",
          "height": 85
        }
      },
      "source": [
        "import numpy as np    # 行列演算の為のライブラリの読み込み\n",
        "\n",
        "#---------------------------\n",
        "#  論理積を計算する\n",
        "#---------------------------\n",
        "def AND(x1,x2):\n",
        "  x = np.array([x1,x2])\n",
        "  w = np.array([0.5,0.5])\n",
        "  b = -0.7\n",
        "  result = b + np.sum(w*x)\n",
        "  if result <= 0:\n",
        "    return 0\n",
        "  else:\n",
        "    return 1\n",
        "  \n",
        "print(AND(0,0))\n",
        "print(AND(0,1))\n",
        "print(AND(1,0))\n",
        "print(AND(1,1))\n"
      ],
      "execution_count": 3,
      "outputs": [
        {
          "output_type": "stream",
          "text": [
            "0\n",
            "0\n",
            "0\n",
            "1\n"
          ],
          "name": "stdout"
        }
      ]
    },
    {
      "cell_type": "markdown",
      "metadata": {
        "id": "_ycu4loorf6r",
        "colab_type": "text"
      },
      "source": [
        "## ORパーセプトロン\n",
        "先程のANDパーセプトロンの重みWとバイアスｂを変更することでor（論理和）パーセプトロンも実装できる。\n",
        "\n",
        "ORパーセプトロンの真偽値は下記の通り\n",
        "\n",
        "![ORパーセプトロン](https://docs.google.com/drawings/d/e/2PACX-1vT5n56HwMBreq9nmHCYS3rydXTPR3YQRXs62---PUy9PV6hyP6uSNDVN6A63I-KLN3whl6YPsMwCWYP/pub?w=110&h=104)\n",
        "\n",
        "これをパーセプトロンで実現する場合は例として下記のように重みWとバイアスｂを設定する。\n",
        "* W1 = 0.5\n",
        "* W2 = 0.5\n",
        "* b = -0.2\n",
        "\n",
        "これを同様にpythonで実装する\n",
        "\n"
      ]
    },
    {
      "cell_type": "code",
      "metadata": {
        "id": "TzrYtfH9sySp",
        "colab_type": "code",
        "outputId": "a825c0e8-1a4a-4744-bff7-563ccd3dc32d",
        "colab": {
          "base_uri": "https://localhost:8080/",
          "height": 85
        }
      },
      "source": [
        "#---------------------------\n",
        "#  論理和を計算する\n",
        "#---------------------------\n",
        "def OR(x1,x2):\n",
        "  x = np.array([x1,x2])\n",
        "  w = np.array([0.5,0.5])\n",
        "  b = -0.2\n",
        "  result = b + np.sum(w*x)\n",
        "  if result <= 0:\n",
        "    return 0\n",
        "  else:\n",
        "    return 1\n",
        "  \n",
        "print(OR(0,0))\n",
        "print(OR(0,1))\n",
        "print(OR(1,0))\n",
        "print(OR(1,1))"
      ],
      "execution_count": 4,
      "outputs": [
        {
          "output_type": "stream",
          "text": [
            "0\n",
            "1\n",
            "1\n",
            "1\n"
          ],
          "name": "stdout"
        }
      ]
    },
    {
      "cell_type": "markdown",
      "metadata": {
        "id": "YbrDEEzDtYfg",
        "colab_type": "text"
      },
      "source": [
        "## アルゴリズムとしてのパーセプトロン\n",
        "上記と同様にNANDなども表現できる。さらにこれらのパーセプトロンを複数組み合わせることもできる。これにより単層では表現できないXORなどの論理演算も可能となる。\n",
        "\n",
        "最も重要な点は、このパーセプトロンを構成する一つ一つのニューロンは全て等価であり、単に入力値への重み付けが異なるだけという点である。\n",
        "\n",
        "よってパーセプトロンではこの重みの値を決定することで演算が可能となり、これは演算アルゴリズムをパーセプトロンの重みで表現しているとも言い換えることができる。\n",
        "\n",
        "これまでのコンピューティングはオブジェクト指向であれなんであれ、実体としては命令を逐次実行することで目的を達成している。AIでは情報を伝達するためのプログラムは存在するが、実際の判定ロジックそのものはこの「重み」が担っている。\n",
        "\n",
        "ただし単層のパーセプトロンではXOR回路が生成出来ないことが指摘され、多層パーセプトロンが開発されたものの、そのままでは線形分離不可能なパターンを識別できないことが指摘さた。さらに、重みパラメータの設定方法が不明であったことも大きな問題点であった。このためその後10年にわたってこのパーセプトロン理論は日の目を見ることができなかった。\n",
        "\n",
        "\n",
        "\n"
      ]
    },
    {
      "cell_type": "markdown",
      "metadata": {
        "id": "RL-874h9wjIz",
        "colab_type": "text"
      },
      "source": [
        "# ニューラルネットワーク\n",
        "パーセプトロンのコンセプトを元に、これに改良を加えたものがニューラルネットワークである。\n",
        "* 活性化関数の導入\n",
        "* ３層構造の導入（出力層の工夫）\n",
        "* 機械学習(ディープラーニング）の導入\n",
        "\n"
      ]
    },
    {
      "cell_type": "markdown",
      "metadata": {
        "id": "Mmx0g2eG6NXt",
        "colab_type": "text"
      },
      "source": [
        "## 活性化関数の導入\n",
        "パーセプトロンはもともと二値演算を生物学的に実現しようという発想であったため、出力値は当然２値である。これをデジタル（離散値）ではなくアナログ（連続値）にもちこんだのが、このニューラルネットワークの優れた着想点である。\n",
        "\n",
        "ニューラルネットワークでは、これを活性化関数として再定義している。\n",
        "\n",
        "\n",
        "主な活性化関数を下記に示す\n",
        "\n",
        "\n",
        "\n"
      ]
    },
    {
      "cell_type": "markdown",
      "metadata": {
        "id": "nQzVnI_66Oz1",
        "colab_type": "text"
      },
      "source": [
        "### ステップ関数\n",
        "パーセプトロンで実装されている方式。\n",
        "\n",
        "評価式の結果がゼロ以下かそれ以外で０、１の二値を返す\n",
        "\n",
        "ステップ関数をグラフに表示する"
      ]
    },
    {
      "cell_type": "code",
      "metadata": {
        "id": "OzO1oCsJ1ykU",
        "colab_type": "code",
        "outputId": "784b906b-95d6-4569-fb51-86479d40caa8",
        "colab": {
          "base_uri": "https://localhost:8080/",
          "height": 269
        }
      },
      "source": [
        "import numpy as np\n",
        "import matplotlib.pylab as plt\n",
        "\n",
        "#------------------------\n",
        "# ステップ関数\n",
        "#------------------------\n",
        "def step_function(x):\n",
        "    return np.array(x > 0, dtype=np.int)\n",
        "\n",
        "#------------------------\n",
        "# グラフへの表示\n",
        "#------------------------\n",
        "X = np.arange(-5.0, 5.0, 0.1)\n",
        "Y = step_function(X)\n",
        "plt.plot(X, Y)\n",
        "plt.ylim(-0.1, 1.1)  # 図で描画するy軸の範囲を指定\n",
        "plt.show()"
      ],
      "execution_count": 0,
      "outputs": [
        {
          "output_type": "display_data",
          "data": {
            "image/png": "[encoded data removed]",
            "text/plain": [
              "<Figure size 432x288 with 1 Axes>"
            ]
          },
          "metadata": {
            "tags": []
          }
        }
      ]
    },
    {
      "cell_type": "markdown",
      "metadata": {
        "id": "g5PqkPWW1nz7",
        "colab_type": "text"
      },
      "source": [
        "### シグモイド関数\n",
        "初期のニューラルネットワークで広く用いられた関数。\n",
        "\n",
        "（城田説）ステップ関数に近い連続的で微分しやすい関数を使ったと思ってる  \n",
        "\n",
        "\n",
        "$h(x)=\\frac{1}{1+e^{-x}}$ \n",
        "\n",
        "\n",
        "\n",
        "---\n",
        "##### （参考）ネイピア数 $e$ について\n",
        "\n",
        "\n",
        "\n",
        "\n",
        "![代替テキスト](https://mathwords.net/wp-content/uploads/2016/10/enoxnogurahu1-300x260.png)\n",
        "\n",
        "**特徴**\n",
        "* $y=e^x$ のグラフの概形は上図の通り。\n",
        "* $x=0$の時、$e^x=1$\n",
        "* $\\frac{d}{dx}e^x = e^x$ 微分しても同じ形\n",
        "* $y=e^x$はプログラム上では  y=exp(x)と記述される。\n",
        "* expはエクスポーネンシャルの略\n",
        "\n",
        "---\n",
        "\n",
        "\n",
        "グラフに表示する。\n"
      ]
    },
    {
      "cell_type": "code",
      "metadata": {
        "id": "T0yf1TAL2g0P",
        "colab_type": "code",
        "outputId": "d09fbb8d-62b5-41e3-de34-85da2edab645",
        "colab": {
          "base_uri": "https://localhost:8080/",
          "height": 265
        }
      },
      "source": [
        "import numpy as np\n",
        "import matplotlib.pylab as plt\n",
        "\n",
        "#------------------------\n",
        "# シグモイド関数\n",
        "#------------------------\n",
        "def sigmoid(x):\n",
        "    return 1 / (1 + np.exp(-x))    \n",
        "\n",
        "#------------------------\n",
        "# グラフへの表示\n",
        "#------------------------\n",
        "X = np.arange(-5.0, 5.0, 0.1)\n",
        "Y = sigmoid(X)\n",
        "plt.plot(X, Y)\n",
        "plt.ylim(-0.1, 1.1)\n",
        "plt.show()"
      ],
      "execution_count": 5,
      "outputs": [
        {
          "output_type": "display_data",
          "data": {
            "image/png": "[encoded data removed]",
            "text/plain": [
              "<Figure size 432x288 with 1 Axes>"
            ]
          },
          "metadata": {
            "tags": []
          }
        }
      ]
    },
    {
      "cell_type": "markdown",
      "metadata": {
        "id": "biLbM0kG1qqO",
        "colab_type": "text"
      },
      "source": [
        "上記のようにシグモイド関数では、結果は２値ではなく０から１までの実数が返却される。\n",
        "\n",
        "これは出力値を２つに限定したパーセプトロンからの大きな飛躍であり、これにより複雑な（曖昧な）入力と出力が可能となった。\n"
      ]
    },
    {
      "cell_type": "markdown",
      "metadata": {
        "id": "fLC6sU0y4ARZ",
        "colab_type": "text"
      },
      "source": [
        "### ReLU関数　（別名：ランプ関数　　ramp func 傾斜関数）\n",
        "最近のAIではシグモイド関数の代わりに用いられる事が多い。\n",
        "\n",
        "ReLUは入力値がゼロを超えていればそのまま出力される。\n",
        "\n"
      ]
    },
    {
      "cell_type": "code",
      "metadata": {
        "id": "tEAtGJId5cji",
        "colab_type": "code",
        "outputId": "2c3f6598-8082-4ffc-efd6-9365d6e8baa9",
        "colab": {
          "base_uri": "https://localhost:8080/",
          "height": 269
        }
      },
      "source": [
        "# coding: utf-8\n",
        "import numpy as np\n",
        "import matplotlib.pylab as plt\n",
        "\n",
        "#------------------------\n",
        "# ReLU関数\n",
        "#------------------------\n",
        "def relu(x):\n",
        "    return np.maximum(0, x)\n",
        "\n",
        "#------------------------\n",
        "# グラフへの表示\n",
        "#------------------------\n",
        "x = np.arange(-5.0, 5.0, 0.1)\n",
        "y = relu(x)\n",
        "plt.plot(x, y)\n",
        "plt.ylim(-1.0, 5.5)\n",
        "plt.show()\n"
      ],
      "execution_count": 0,
      "outputs": [
        {
          "output_type": "display_data",
          "data": {
            "image/png": "[encoded data removed]",
            "text/plain": [
              "<Figure size 432x288 with 1 Axes>"
            ]
          },
          "metadata": {
            "tags": []
          }
        }
      ]
    },
    {
      "cell_type": "markdown",
      "metadata": {
        "id": "L8VyVbpH6pvs",
        "colab_type": "text"
      },
      "source": [
        "## 3層構造の導入\n",
        "ニューラルネットワークでは、全体のネットワーク構造（ニューロンの繋がり）を入力層、中間層、出力層の３種類で定義している。\n",
        "\n",
        "下記に３層構造のニューラルネットワークを図示する（入力層が０番目）。\n",
        "\n",
        "![ニューラルネットワーク図](https://docs.google.com/drawings/d/e/2PACX-1vTz9IG4wquQ4WPAyi6vaxoMVAnO_g1E7lA3We7u1x84faTg_pUQ3KWwEuyP-NDn9YQnPu694SUXM12t/pub?w=960&h=720)\n",
        "\n"
      ]
    },
    {
      "cell_type": "markdown",
      "metadata": {
        "id": "zFWbHevF_Gl-",
        "colab_type": "text"
      },
      "source": [
        "### 入力層\n",
        "ニューラルネットワークの入力となる層。\n",
        "\n",
        "各ニューロンへの値は一つなので、画像を認識しようとすれば、各画素毎の値が入力値となる。\n",
        "\n",
        "具体的には縦横１６ドットの画像であれば、１６×１６＝２５６の画素で構成されるため、入力層のニューロンは２５６個必要となる。"
      ]
    },
    {
      "cell_type": "markdown",
      "metadata": {
        "id": "7GTLGjAsABCf",
        "colab_type": "text"
      },
      "source": [
        "### 隠れ層\n",
        "この層がAIにおけるモデルの中心部分であり日々進化を遂げている。\n",
        "\n",
        "過去には計算機のパワー不足により隠れ層が１つでも多大な負荷であったが、現在ではこの隠れ層を数百に及んで実装することも可能となっている。\n"
      ]
    },
    {
      "cell_type": "markdown",
      "metadata": {
        "id": "FgO6jmr__wS0",
        "colab_type": "text"
      },
      "source": [
        "### 出力層\n",
        "ニューラルネットワークの出力となる層。この層の設計は説かれる問題によってニューロンの個数と活性化関数が決まってくる（このため、先程の図では出力層での活性化関数がh()ではなくσ()と記述している）。\n",
        "　　\n",
        "\n",
        "<table>\n",
        "  <tr>\n",
        "    <th>問題の種類</th>\n",
        "    <th>問題の例</th>\n",
        "    <th>活性化関数</th>\n",
        "    <th>出力層の数</th>\n",
        "  </tr>\n",
        "  <tr>\n",
        "    <td>回帰問題</td>\n",
        "    <td>年齢推定など特定の値を求める</td>\n",
        "    <td>恒等関数</td>\n",
        "    <td>1個</td>\n",
        "  </tr>\n",
        "  <tr>\n",
        "    <td>２値分類</td>\n",
        "    <td>合格・不合格など２種類に分類する</td>\n",
        "    <td>シグモイド関数</td>\n",
        "    <td>2個</td>\n",
        "  </tr>\n",
        "  <tr>\n",
        "    <td>多クラス問題</td>\n",
        "    <td>文字認識など複数のクラスに分解する問題</td>\n",
        "    <td>ソフトマックス関数</td>\n",
        "    <td>n個</td>\n",
        "  </tr>\n",
        "</table>\n",
        "</br>\n",
        "\n",
        "\n",
        "今回の手書き数字認識であれば、結果は０から９のいずれかになるので、出力層は１０となり出力層での活性化関数はソフトマックス関数を用いる。\n",
        "\n"
      ]
    },
    {
      "cell_type": "markdown",
      "metadata": {
        "id": "L2hRLitDC5hY",
        "colab_type": "text"
      },
      "source": [
        "#### ソフトマックス関数\n",
        "![ソフトマックス関数](https://docs.google.com/drawings/d/e/2PACX-1vSzbhHIZVMWV4YAJgndvhJuHOmPNSNBJYlKqpLh1d0Ffl6Lfbr9HcQcczLk-oWQgYqcno_Mn6TuFAaM/pub?w=185&h=100)\n",
        "\n",
        "この関数は出力値を全体の合計値で割ることにより、必ず０～１の間における割合を示す。これは擬似的に出力値に対する期待度、信頼度を示しているとも言える。\n",
        "\n",
        "なお、expをしていることにより、出力値が高い場合はより大きい値をとることで、微細な違いもはっきりと表示する効果を持っている。\n",
        "\n"
      ]
    },
    {
      "cell_type": "markdown",
      "metadata": {
        "id": "npN6fdBEGp20",
        "colab_type": "text"
      },
      "source": [
        "## 手書き数字（エムニスト）認識の実装\n",
        "それでは、実際にニューラルネットワークを使って手書き文字認識を実装してみる。\n"
      ]
    },
    {
      "cell_type": "markdown",
      "metadata": {
        "id": "qsgiudRhHFSm",
        "colab_type": "text"
      },
      "source": [
        "### エムニストデータセット\n",
        "oreillyのデータを使ってMNISTデータの認識を行う\n",
        "\n",
        "![MNIST](https://docs.google.com/drawings/d/e/2PACX-1vRmKtGjrW_McthMyjLw9dj_zXxKaZ-Gca_HeNPKumeS7EIZ72ndBVYITGC0VLaRQOcayx97xOt_f40n/pub?w=289&h=173)\n",
        "\n",
        "Mixed Natioal Institute of Standards and Technology database. MNIST [エムニスト] [em-nist]\n",
        "\n",
        "\n",
        "![サンプル](https://docs.google.com/drawings/d/e/2PACX-1vQkslZu9xyboXsva9jgmQDVrynTZZeYnI6yMamdc012Y3z5kTrA68ePcAyBsagxSfyawIsTHhFE-b7j/pub?w=290&h=318)\n",
        "\n",
        "* サイズは２８×２８ドット\n",
        "* 白黒２５６階調（０白：２５５：黒）\n"
      ]
    },
    {
      "cell_type": "markdown",
      "metadata": {
        "id": "7I7etWIjtj4R",
        "colab_type": "text"
      },
      "source": [
        "### ニューラルネットワークの設計\n",
        "ここでは隠れ層を２つもつニューラルネットワークを構築する\n",
        "\n",
        "![代替テキスト](https://docs.google.com/drawings/d/e/2PACX-1vQPJZS9d6upJkCh2yHAc7h5620ZZCjPvGNzHuOTyrXx1kYv8HCC5ORtbB-6FQC-E4oir0peQFe-Q5k9/pub?w=1291&h=743)\n",
        "\n",
        "* 入力層は２８×２８＝７８４個のニューロン\n",
        "* 隠れ層１は５０個のニューロン\n",
        "* 隠れ層２は１００個のニューロン\n",
        "* 出力層は（正解が0～9なので）１０個のニューロン\n",
        "\n"
      ]
    },
    {
      "cell_type": "markdown",
      "metadata": {
        "id": "CJCqoMuMQgOG",
        "colab_type": "text"
      },
      "source": [
        "## 文字認識処理のみの実装\n",
        "上図において機械学習の処理を含まない文字認識処理の部分について実装を行う（損失関数：交差エントロピーについては後で述べる）。  \n",
        "  ここでは、事前に機械学習により導出された重みとバイアスパラメータを定義済みモデルとしてダウンロードして用いる。  \n",
        "　"
      ]
    },
    {
      "cell_type": "code",
      "metadata": {
        "id": "U-JgC20YPdz5",
        "colab_type": "code",
        "outputId": "d069e6cb-0c48-4826-f1d3-196ccaeff454",
        "colab": {
          "base_uri": "https://localhost:8080/",
          "height": 357
        }
      },
      "source": [
        "%cd /content/deep-learning-from-scratch/ch03\n",
        "\n",
        "# coding: utf-8\n",
        "import sys, os\n",
        "sys.path.append(os.pardir)  # 親ディレクトリのファイルをインポートするための設定\n",
        "import numpy as np\n",
        "import pickle\n",
        "from dataset.mnist import load_mnist\n",
        "from common.functions import sigmoid, softmax\n",
        "\n",
        "#-----------------------------\n",
        "# データの取得\n",
        "#-----------------------------\n",
        "def get_data():\n",
        "    (x_train, t_train), (x_test, t_test) = load_mnist(normalize=True, flatten=True, one_hot_label=False)\n",
        "    return x_test, t_test\n",
        "\n",
        "\n",
        "#-----------------------------\n",
        "# 定義済みのニューラルネットワークの読み込み\n",
        "#-----------------------------\n",
        "def init_network():\n",
        "    with open(\"sample_weight.pkl\", 'rb') as f:\n",
        "        network = pickle.load(f)\n",
        "    return network\n",
        "\n",
        "\n",
        "#-----------------------------\n",
        "# 推論処理\n",
        "#-----------------------------\n",
        "def predict(network, x):\n",
        "    # 重み配列の読み込み\n",
        "    W1, W2, W3 = network['W1'], network['W2'], network['W3']\n",
        "    # バイアスの読み込み\n",
        "    b1, b2, b3 = network['b1'], network['b2'], network['b3']\n",
        "\n",
        "    # 入力層　-> 隠れ層1　の処理\n",
        "    a1 = np.dot(x, W1) + b1\n",
        "    z1 = sigmoid(a1)\n",
        "\n",
        "    # 隠れ層1　-> 隠れ層2　の処理\n",
        "    a2 = np.dot(z1, W2) + b2\n",
        "    z2 = sigmoid(a2)\n",
        "\n",
        "    # 隠れ層2　-> 出力層　の処理\n",
        "    a3 = np.dot(z2, W3) + b3\n",
        "    y = softmax(a3)\n",
        "\n",
        "    return y\n",
        "\n",
        "\n",
        "#-----------------------------\n",
        "# メイン処理\n",
        "#-----------------------------\n",
        "x, t = get_data()             # 入力データx と正解データt を読み込む\n",
        "network = init_network()      # 訓練済みの重み、バイアスデータを読み込む\n",
        "accuracy_cnt = 0\n",
        "\n",
        "for i in range(len(x)):\n",
        "    # 一枚ごとに推論処理を行う\n",
        "    y = predict(network, x[i])\n",
        "    p= np.argmax(y)           # 最も確率の高い要素のインデックスを取得\n",
        "    if p == t[i]:\n",
        "        # 正解の場合\n",
        "        accuracy_cnt += 1\n",
        "\n",
        "#-----------------------------\n",
        "# 結果表示\n",
        "#-----------------------------\n",
        "print(\"Accuracy:\" + str(float(accuracy_cnt) / len(x)))"
      ],
      "execution_count": 6,
      "outputs": [
        {
          "output_type": "stream",
          "text": [
            "/content/deep-learning-from-scratch/ch03\n",
            "Downloading train-images-idx3-ubyte.gz ... \n",
            "Done\n",
            "Downloading train-labels-idx1-ubyte.gz ... \n",
            "Done\n",
            "Downloading t10k-images-idx3-ubyte.gz ... \n",
            "Done\n",
            "Downloading t10k-labels-idx1-ubyte.gz ... \n",
            "Done\n",
            "Converting train-images-idx3-ubyte.gz to NumPy Array ...\n",
            "Done\n",
            "Converting train-labels-idx1-ubyte.gz to NumPy Array ...\n",
            "Done\n",
            "Converting t10k-images-idx3-ubyte.gz to NumPy Array ...\n",
            "Done\n",
            "Converting t10k-labels-idx1-ubyte.gz to NumPy Array ...\n",
            "Done\n",
            "Creating pickle file ...\n",
            "Done!\n",
            "Accuracy:0.9352\n"
          ],
          "name": "stdout"
        }
      ]
    },
    {
      "cell_type": "markdown",
      "metadata": {
        "id": "Em0jNpA-XQxM",
        "colab_type": "text"
      },
      "source": [
        "### バッチ処理の実装\n",
        "上記の例は６万枚の画像データについて一枚づつ処理を行っている。\n",
        "\n",
        "numpyなどの科学計算ライブラリは行列計算が高速に行えるようにチューニングされている。このため一般的にはロジックでループ処理を行うより、行列式として一度に計算する量を増やしてやるほうが結果として処理が早くなる。\n",
        "\n",
        "今回の例では一つの画像データ（画素数分の列データ）を複数画像分まとめて（行列データにして）渡すことで、計算が早くなる。\n",
        "\n",
        "このまとめる指定を「バッチ（束）」と呼ぶ。\n",
        "\n",
        "バッチ数を指定した場合のプログラムを下記に示す（結果は変わらない）。"
      ]
    },
    {
      "cell_type": "code",
      "metadata": {
        "id": "rXwJLKQPXNKQ",
        "colab_type": "code",
        "outputId": "5efd2029-08ba-4833-f9bb-c4ec00a6c571",
        "colab": {
          "base_uri": "https://localhost:8080/",
          "height": 34
        }
      },
      "source": [
        "\n",
        "x, t = get_data()\n",
        "network = init_network()\n",
        "\n",
        "batch_size = 100 # バッチの数\n",
        "accuracy_cnt = 0\n",
        "\n",
        "for i in range(0, len(x), batch_size):\n",
        "    x_batch = x[i:i+batch_size]\n",
        "    y_batch = predict(network, x_batch)\n",
        "    p = np.argmax(y_batch, axis=1)\n",
        "    accuracy_cnt += np.sum(p == t[i:i+batch_size])\n",
        "\n",
        "print(\"Accuracy:\" + str(float(accuracy_cnt) / len(x)))\n"
      ],
      "execution_count": 7,
      "outputs": [
        {
          "output_type": "stream",
          "text": [
            "Accuracy:0.9352\n"
          ],
          "name": "stdout"
        }
      ]
    },
    {
      "cell_type": "markdown",
      "metadata": {
        "id": "Y-zpOiF0bBxT",
        "colab_type": "text"
      },
      "source": [
        "# Deep Learning\n",
        "ディープラーニングとは４層以上のニューラルネットワークにおける各パラメータ（重み、バイアス）を決定する作業である。\n",
        "\n"
      ]
    },
    {
      "cell_type": "markdown",
      "metadata": {
        "id": "C-sUaSzaX5Ej",
        "colab_type": "text"
      },
      "source": [
        "## Learning概要\n",
        "それでは、どのように重みやバイアスパラメータを決めてゆくのだろうか？　下記にそのポイントを説明する。"
      ]
    },
    {
      "cell_type": "markdown",
      "metadata": {
        "id": "NPoM_jYM9060",
        "colab_type": "text"
      },
      "source": [
        "## 対象データの抽出-ミニバッチ\n",
        "ミニバッチとは全量データを使わずに一部のデータをランダムに抜き出すことで処理の高速化を図るテクニックである。これはTV局の視聴率調査と同様で母集団が一定のサイズであれば、一部の少量データでも統計的振る舞いが同様となる特性を利用している。\n"
      ]
    },
    {
      "cell_type": "markdown",
      "metadata": {
        "id": "YEl8IIEkdVl9",
        "colab_type": "text"
      },
      "source": [
        "## 損失関数の設定\n",
        "重みパラメータなどを推定する際の基準となりうのが、この損失関数である。この損失関数の値をゼロに近づける行為がディープラーニングである。  \n",
        "\n",
        "ソフトマックスにより計算された値がどの程度正解からズレているか（誤差）を計算する。この関数を損失関数と呼ぶ。\n",
        "\n",
        "損失関数は誤差を数値化することである。数学的に最も有名な誤差計測の方法は２乗和誤差と呼ばれるものであるが、AIの世界では交差エントロピー誤差という手法が利用される。\n"
      ]
    },
    {
      "cell_type": "markdown",
      "metadata": {
        "id": "I1y-z9kQAPRa",
        "colab_type": "text"
      },
      "source": [
        "<hr>\n",
        "\n",
        "### 交差エントロピー誤差\n",
        "![交差エントロピー誤差](https://docs.google.com/drawings/d/e/2PACX-1vRkLbMfJmj-vUDumOXr1Lxk32H9Hu7CNryVJWggm48BZmN8pMkEfX94XdkzyaAiggbWiqrBRTdteCBv/pub?w=150&h=100)\n",
        "\n",
        "　先のmnistデータでは、各画像に対する正解データ（教師データ）は０から９までの配列で表されていた。  \n",
        "　一方、ニューラルネットワークを使って計算された出力結果はソフトマックス関数により０から１までの値として表現される。  \n",
        "　この例で交差エントロピー誤差を計算すると、教師データは正解以外はゼロであるため、結局の所　E=log(0.8)を計算するだけでよい。  \n",
        "\n",
        " \n",
        "<table>\n",
        "  <tr>\n",
        "    <th>ラベル</th>\n",
        "    <th>0</th>\n",
        "    <th>1</th>\n",
        "    <th>2</th>\n",
        "    <th>3</th>\n",
        "    <th>4</th>\n",
        "    <th>5</th>\n",
        "    <th>6</th>\n",
        "    <th>7</th>\n",
        "    <th>8</th>\n",
        "    <th>9</th>\n",
        "  </tr>\n",
        "  <tr>\n",
        "    <th>正解データ</th>\n",
        "    <td>0</td>\n",
        "    <td>0</td>\n",
        "    <td>0</td>\n",
        "    <td>0</td>\n",
        "    <td>0</td>\n",
        "    <td>1</td>\n",
        "    <td>0</td>\n",
        "    <td>0</td>\n",
        "    <td>0</td>\n",
        "    <td>0</td>\n",
        "  </tr>\n",
        "  <tr>\n",
        "    <th>SoftMax出力値</th>\n",
        "    <td>0</td>\n",
        "    <td>0.1</td>\n",
        "    <td>0</td>\n",
        "    <td>0</td>\n",
        "    <td>0</td>\n",
        "    <td>0.8</td>\n",
        "    <td>0</td>\n",
        "    <td>0</td>\n",
        "    <td>0.1</td>\n",
        "    <td>0</td>\n",
        "  </tr>\n",
        "  <tr>\n",
        "    <th>交差エントロピー誤差</th>\n",
        "    <td>0</td>\n",
        "    <td>0</td>\n",
        "    <td>0</td>\n",
        "    <td>0</td>\n",
        "    <td>0</td>\n",
        "    <td>0.22</td>\n",
        "    <td>0</td>\n",
        "    <td>0</td>\n",
        "    <td>0</td>\n",
        "    <td>0</td>\n",
        "  </tr>\n",
        "</table>\n",
        "\n",
        "※このような正解データの表記方法をOne Hot表現と呼ぶ\n",
        "\n",
        "ちなみに、y = log(x)のグラフは"
      ]
    },
    {
      "cell_type": "code",
      "metadata": {
        "id": "Yfa-921_knha",
        "colab_type": "code",
        "outputId": "a4f9921c-7fed-4b05-baa0-d7f57db4fc1d",
        "colab": {
          "base_uri": "https://localhost:8080/",
          "height": 269
        }
      },
      "source": [
        "# coding: utf-8\n",
        "import numpy as np\n",
        "import matplotlib.pylab as plt\n",
        "#------------------------\n",
        "# グラフ表示\n",
        "#------------------------\n",
        "x = np.arange(0.0001, 1.0, 0.01)\n",
        "y = np.log(x)\n",
        "plt.plot(x, y)\n",
        "plt.ylim(-5.0, 0.0)\n",
        "plt.show()"
      ],
      "execution_count": 8,
      "outputs": [
        {
          "output_type": "display_data",
          "data": {
            "image/png": "[encoded data removed]",
            "text/plain": [
              "<Figure size 432x288 with 1 Axes>"
            ]
          },
          "metadata": {
            "tags": []
          }
        }
      ]
    },
    {
      "cell_type": "markdown",
      "metadata": {
        "id": "QcNS1DahlVey",
        "colab_type": "text"
      },
      "source": [
        "となり、Xが１のときにYは０となる。なお、Xが０となるとlog(x)は-∞となるため、プログラミングする際はXがゼロとならないように極小のバイアス値を付加して算出する。\n"
      ]
    },
    {
      "cell_type": "markdown",
      "metadata": {
        "id": "lUPCEsdrEXHV",
        "colab_type": "text"
      },
      "source": [
        "## パラメーターの再計算\n",
        "先に導出された損失関数を指標に各パラメーター（重みとバイアス）を決定してゆく。\n",
        "\n",
        "この値の決定方法として勾配降下法と呼ばれる手法が用いられる。\n",
        "\n",
        "### **勾配降下法**\n",
        "\n",
        "　まず一つのニューロンの重みWについて考えてみる。ニューロンの重みWが変化すれば損失関数の値Lossが変動する。仮にその変動が下図のグラフのようになった場合、最もLossが少ないWの値が求めたい目標の値である。  \n",
        "　今初期値Pからスタートしてゴールとなる目標地点にWを変化させたい場合、どのような操作をすればよいだろうか？　視覚的に記述するなら「傾きを下る方向にWを移動する」となる。これを数学的に記述すると、\n",
        "* 点Pでのグラフの傾きを求め、その値の定数倍をマイナスする\n",
        "\n",
        "これを繰り返して目標の値を求める方式を勾配降下法と呼ぶ。\n",
        "\n",
        "\n",
        "![勾配降下法](https://docs.google.com/drawings/d/e/2PACX-1vRN5EFodaLfgY0qFOPS9jQLNnJFa-e5JnrwZBAEAVqAtdxPtdnFIhW3xN0176LokS0BbOm3IsdLmCVn/pub?w=791&h=386)\n",
        "\n",
        "　"
      ]
    },
    {
      "cell_type": "markdown",
      "metadata": {
        "id": "5yBy0Hh5v66J",
        "colab_type": "text"
      },
      "source": [
        "### 勾配降下法の例題\n",
        "実際に数値微分を使って勾配降下法の動きを見てみる。\n",
        "\n",
        "例として$f(x_1,x_2) = x_1^2 + x_2^2$ としたとき、関数$f$が最小の値となる$x_1,x_2$を求める。\n",
        "\n",
        "\n"
      ]
    },
    {
      "cell_type": "code",
      "metadata": {
        "id": "QLZnPuQPvcf5",
        "colab_type": "code",
        "outputId": "1cabfcab-93f7-4f79-b27a-6df644f4e697",
        "colab": {
          "base_uri": "https://localhost:8080/",
          "height": 279
        }
      },
      "source": [
        "# coding: utf-8\n",
        "import numpy as np\n",
        "import matplotlib.pylab as plt\n",
        "\n",
        "def _numerical_gradient_no_batch(f, x):\n",
        "    h = 1e-4  # 0.0001\n",
        "    grad = np.zeros_like(x)\n",
        "    \n",
        "    for idx in range(x.size):\n",
        "        tmp_val = x[idx]\n",
        "        x[idx] = float(tmp_val) + h\n",
        "        fxh1 = f(x)  # f(x+h)\n",
        "        \n",
        "        x[idx] = tmp_val - h \n",
        "        fxh2 = f(x)  # f(x-h)\n",
        "        grad[idx] = (fxh1 - fxh2) / (2*h)\n",
        "        \n",
        "        x[idx] = tmp_val  # 値を元に戻す\n",
        "        \n",
        "    return grad\n",
        "\n",
        "def numerical_gradient(f, X):\n",
        "    if X.ndim == 1:   #次元数が１の場合\n",
        "        return _numerical_gradient_no_batch(f, X)\n",
        "    else:\n",
        "        grad = np.zeros_like(X)\n",
        "        \n",
        "        for idx, x in enumerate(X):\n",
        "            grad[idx] = _numerical_gradient_no_batch(f, x)\n",
        "        \n",
        "        return grad\n",
        "\n",
        "\n",
        "def gradient_descent(f, init_x, lr=0.01, step_num=100):\n",
        "    x = init_x\n",
        "    x_history = []\n",
        "\n",
        "    for i in range(step_num):\n",
        "        x_history.append( x.copy() )\n",
        "\n",
        "        grad = numerical_gradient(f, x)   # 数値微分で傾きを求める\n",
        "        x -= lr * grad                    # 傾き×学習率を重みから引く\n",
        "\n",
        "    return x, np.array(x_history)\n",
        "\n",
        "\n",
        "def function_2(x):\n",
        "    return x[0]**2 + x[1]**2\n",
        "\n",
        "init_x = np.array([-3.0, 4.0])    \n",
        "\n",
        "lr = 0.1               # Learning Rate 学習率\n",
        "step_num = 20\n",
        "x, x_history = gradient_descent(function_2, init_x, lr=lr, step_num=step_num)\n",
        "\n",
        "plt.plot( [-5, 5], [0,0], '--b')\n",
        "plt.plot( [0,0], [-5, 5], '--b')\n",
        "plt.plot(x_history[:,0], x_history[:,1], 'o')\n",
        "\n",
        "plt.xlim(-3.5, 3.5)\n",
        "plt.ylim(-4.5, 4.5)\n",
        "plt.xlabel(\"X0\")\n",
        "plt.ylabel(\"X1\")\n",
        "plt.show()\n"
      ],
      "execution_count": 0,
      "outputs": [
        {
          "output_type": "display_data",
          "data": {
            "image/png": "[encoded data removed]",
            "text/plain": [
              "<Figure size 432x288 with 1 Axes>"
            ]
          },
          "metadata": {
            "tags": []
          }
        }
      ]
    },
    {
      "cell_type": "markdown",
      "metadata": {
        "id": "jpyIxXvhx6RC",
        "colab_type": "text"
      },
      "source": [
        "### 学習率(Learning Rate)η\n",
        "ここで重要なパラメータとして「学習率η（イータ）」がある。この学習率は傾きに乗じる定数であるが、これが大きすぎても小さすぎても正しい値を導くことができない。\n",
        "\n",
        "* lr=0.1であれば収束する\n",
        "* lr=0.01では収束しない\n",
        "* 逆にlr=0.8であると発散してしまう\n",
        "\n",
        "なお、この学習率は経験的に発見するしかない。\n"
      ]
    },
    {
      "cell_type": "markdown",
      "metadata": {
        "id": "jJHpaRxXy6SL",
        "colab_type": "text"
      },
      "source": [
        "## 数値微分によるLearningの実装\n",
        "これまでの説明でPDCAを見てきた。ここで実際にプログラムとしてニューラルネットワークの学習を実装する。\n",
        "\n",
        "なお、次に示すプログラムでは微分操作により傾きを求めるのではなく、点Pの前後のウェイト値を使って再度損失関数の値を求め、その差を使って傾きを求める方法「**数値微分**」で計算する。\n",
        "\n",
        "大まかなプログラムの流れとしては、\n",
        "* ミニバッチの取得\n",
        "* 数値微分（＋Δ、－Δとして2回の全量計算をする）\n",
        "* 上記を繰り返し、１エポックに達したらテストデータで精度を検証する\n",
        "\n",
        "---\n",
        "### 回数に関する用語\n",
        "\n",
        "学習の繰り返し回数を　**イテレーション数**と呼ぶ。\n",
        "\n",
        "\n",
        "対象としている訓練データの総数を１エポックという単位で表す。これは各ミニバッチでは、データがランダムに選ばれるため、便宜的に全量データについて学習したとみなすためである。\n",
        "\n",
        "それでは、なぜランダムに選ばずに順に全量について処理をしないのかというと、のちに述べる確率的勾配降下法を採用しているためである。"
      ]
    },
    {
      "cell_type": "code",
      "metadata": {
        "id": "uWfKRhNW-pab",
        "colab_type": "code",
        "outputId": "b4486530-1bd7-4653-eb26-7070b3448817",
        "colab": {
          "base_uri": "https://localhost:8080/",
          "height": 589
        }
      },
      "source": [
        "%cd /content/deep-learning-from-scratch/ch04\n",
        "\n",
        "\n",
        "# coding: utf-8\n",
        "import sys, os\n",
        "sys.path.append(os.pardir)  # 親ディレクトリのファイルをインポートするための設定\n",
        "import numpy as np\n",
        "import matplotlib.pyplot as plt\n",
        "from dataset.mnist import load_mnist\n",
        "from two_layer_net import TwoLayerNet\n",
        "\n",
        "# データの読み込み\n",
        "(x_train, t_train), (x_test, t_test) = load_mnist(normalize=True, one_hot_label=True)\n",
        "\n",
        "network = TwoLayerNet(input_size=784, hidden_size=50, output_size=10)\n",
        "\n",
        "iters_num = 10000  # 繰り返しの回数を適宜設定する\n",
        "train_size = x_train.shape[0]\n",
        "batch_size = 100\n",
        "learning_rate = 0.1\n",
        "\n",
        "train_loss_list = []\n",
        "train_acc_list = []\n",
        "test_acc_list = []\n",
        "\n",
        "iter_per_epoch = max(train_size / batch_size, 1)\n",
        "\n",
        "for i in range(iters_num):\n",
        "    # ミニバッチの取得\n",
        "    batch_mask = np.random.choice(train_size, batch_size)\n",
        "    x_batch = x_train[batch_mask]\n",
        "    t_batch = t_train[batch_mask]\n",
        "    \n",
        "    # 勾配の計算\n",
        "    grad = network.numerical_gradient(x_batch, t_batch)\n",
        "    #grad = network.gradient(x_batch, t_batch)\n",
        "    \n",
        "    # パラメータの更新\n",
        "    for key in ('W1', 'b1', 'W2', 'b2'):\n",
        "        network.params[key] -= learning_rate * grad[key]\n",
        "    \n",
        "    loss = network.loss(x_batch, t_batch)\n",
        "    train_loss_list.append(loss)\n",
        "    \n",
        "    # 1エポック毎にテストを使って認識制度を計測する\n",
        "    if i % iter_per_epoch == 0:\n",
        "        train_acc = network.accuracy(x_train, t_train)\n",
        "        test_acc = network.accuracy(x_test, t_test)\n",
        "        train_acc_list.append(train_acc)\n",
        "        test_acc_list.append(test_acc)\n",
        "        print(\"train acc, test acc | \" + str(train_acc) + \", \" + str(test_acc))\n",
        "\n",
        "# グラフの描画\n",
        "markers = {'train': 'o', 'test': 's'}\n",
        "x = np.arange(len(train_acc_list))\n",
        "plt.plot(x, train_acc_list, label='train acc')\n",
        "plt.plot(x, test_acc_list, label='test acc', linestyle='--')\n",
        "plt.xlabel(\"epochs\")\n",
        "plt.ylabel(\"accuracy\")\n",
        "plt.ylim(0, 1.0)\n",
        "plt.legend(loc='lower right')\n",
        "plt.show()"
      ],
      "execution_count": 0,
      "outputs": [
        {
          "output_type": "stream",
          "text": [
            "/content/deep-learning-from-scratch/ch04\n",
            "train acc, test acc | 0.09928333333333333, 0.1032\n",
            "train acc, test acc | 0.7875166666666666, 0.7908\n",
            "train acc, test acc | 0.8794166666666666, 0.8846\n",
            "train acc, test acc | 0.89785, 0.9004\n",
            "train acc, test acc | 0.9080666666666667, 0.9104\n",
            "train acc, test acc | 0.9146166666666666, 0.9148\n",
            "train acc, test acc | 0.9204666666666667, 0.921\n",
            "train acc, test acc | 0.9244, 0.925\n",
            "train acc, test acc | 0.92745, 0.9295\n",
            "train acc, test acc | 0.9317, 0.9319\n",
            "train acc, test acc | 0.9346666666666666, 0.9338\n",
            "train acc, test acc | 0.9380166666666667, 0.9362\n",
            "train acc, test acc | 0.9402666666666667, 0.9393\n",
            "train acc, test acc | 0.9433833333333334, 0.9416\n",
            "train acc, test acc | 0.9446333333333333, 0.9435\n",
            "train acc, test acc | 0.9467833333333333, 0.944\n",
            "train acc, test acc | 0.9482666666666667, 0.946\n"
          ],
          "name": "stdout"
        },
        {
          "output_type": "display_data",
          "data": {
            "image/png": "[encoded data removed]",
            "text/plain": [
              "<Figure size 432x288 with 1 Axes>"
            ]
          },
          "metadata": {
            "tags": []
          }
        }
      ]
    },
    {
      "cell_type": "markdown",
      "metadata": {
        "id": "01_h0GkeKNBm",
        "colab_type": "text"
      },
      "source": [
        "# 誤差逆伝播法（バックプロパゲーション）\n",
        "　先程の機械学習では数値微分という方法で重みを計算した。この方法では一つの重みパラメータを求めるために２回の全量計算をおこなっており、これをすべてのニューロンについて計算し、やっと一回目のイテレーションが完了する。このように数値微分ではCPU処理量が多いため多層ネットワークの構築には不向きである。このため、計算が高速となる誤差逆伝播法（バックプロパゲーション）が開発された。  \n",
        "　多層に渡った活性化関数を微分するためには、連鎖率を利用して損失関数の値から逆向きに偏微分してゆくことで高速に計算できる。ここではそれを計算グラフにて説明する。"
      ]
    },
    {
      "cell_type": "markdown",
      "metadata": {
        "id": "gI8kuqguNcIH",
        "colab_type": "text"
      },
      "source": [
        "## 計算グラフ\n",
        "　計算グラフという記法を使い、順方向の計算を確認する\n",
        "* 100円のリンゴ2個\n",
        "* 150円のみかん3個\n",
        "* 消費税は10%\n",
        "* 合計金額は？\n",
        "\n",
        "![計算グラフ](https://docs.google.com/drawings/d/e/2PACX-1vTwwOt7w-NMp-xaUtPVC7ItTlS5IWqvm0IGxWJAQuWD1WSDNrJdowzxfQ9ED53x05uX26WEmkQjt6BL/pub?w=813&h=521)\n",
        "\n",
        "　ここで、リンゴの値段の変化が合計金額に及ぼす影響を考えてみる。\n",
        "* リンゴが１円値上がりすると、合計金額は2.2円分増加する。\n",
        "* これはリンゴの個数が２であり、消費税が10％であるからである\n",
        "* この2.2という数値は、「リンゴの値段に対する合計金額の微分」である。\n",
        "\n",
        "\n"
      ]
    },
    {
      "cell_type": "markdown",
      "metadata": {
        "id": "jNWEqQ-oONRV",
        "colab_type": "text"
      },
      "source": [
        "### 連鎖律\n",
        "(wikipedia)  \n",
        "微分法において連鎖律（れんさりつ、英: chain rule）とは、複数の関数が合成された合成関数を微分するとき、その導関数がそれぞれの導関数の積で与えられるという関係式のこと\n",
        "\n",
        "<例>  \n",
        "　　$z = (x + y)^2$  について $\\frac{∂z}{∂x}$を求める\n",
        "---\n",
        "一般的な解き方\n",
        "\n",
        "$ \\frac{∂}{∂x}z = \\frac{∂}{∂x}(x + y)^2$  \n",
        "---\n",
        "\n",
        "　 　$ =  \\frac{∂}{∂x}( x^2 + 2xy + y^2)$  \n",
        "---\n",
        "\n",
        "　 　$ = 2x+2y$\n",
        "---\n",
        "---\n",
        "合成関数を使う解き方\n",
        "\n",
        "　　$t = x + y$ と置くと\n",
        "---\n",
        "　　$z = t^2$  \n",
        "---\n",
        "　　$t = x + y$\n",
        "---\n",
        "　　$\\frac{∂z}{∂x} = \\frac{∂z}{∂t}・\\frac{∂t}{∂x}$　　←これが連鎖律\n",
        "---\n",
        "　　　　$ = \\frac{∂}{∂t}t^2・\\frac{∂}{∂x}(x+y)$\n",
        "---\n",
        "　　　　$ = 2t・1$\n",
        "---\n",
        "　　　　$ = 2(x+y)$\n",
        "---\n",
        "---\n",
        "計算グラフを使った解き方\n",
        "\n",
        "\n",
        "![計算グラフ](https://docs.google.com/drawings/d/e/2PACX-1vTxzLeXXa9_xwUwgrG-2T-PYvAEc5_00MkhtXSRoJ5iS21MvaxgEsbmBf_rDTuidzni87d5iUibKlHB/pub?w=946&h=440)\n",
        "\n",
        "\n",
        "図に示すように、連鎖律に従って計算グラフの最後から最初に向かって順に計算することで、最終的な微分にたどり着くことができる。\n",
        "\n",
        "---\n",
        "改めてリンゴとミカンに戻ると\n",
        "\n",
        "![代替テキスト](https://docs.google.com/drawings/d/e/2PACX-1vQRRJ8owch1DvuUawwqgJ_hLX61YB5Lyt4exjIwP6bNnlPawfjN12X2ngO3l0N_9RJ7OKtTBlJ4YBuF/pub?w=809&h=521)\n",
        "\n",
        "\n",
        "　まず、合計金額を１と置くと、消費税がこれにかかってくるので、1.1倍した1.1が一つ前のノードに渡される。次の足し算のノードでは値に変化がおこらず、もう一つ後ろのノードに1.1が渡され、そこに個数の２が掛けられて答えとなる2.2が導出される。この2.2はリンゴの値段に関する支払い金額の微分値にほかならない。  \n",
        "　同様にリンゴの個数に対する支払金額の微分値を求める場合は、直前の1.1までは同様で、その値にリンゴの値段となる100を掛けた110が求める値となる。\n",
        "\n",
        "　\n",
        "　このように、乗算ノードでは互いの数値を互い違いに掛け算し、加算ノードでは前段の値をそのまま使いながら逆の方向に計算を行うと、最終的に微分値が決定される。これが**逆伝播法（バックプロパゲーション）**である。ポイントは以下の通り。\n",
        "\n",
        "* 偏微分値は出力側から逆順に計算してゆく\n",
        "* 掛け算ノードは値を交差させる\n",
        "* 足し算ノードは値をそのまま渡す\n",
        "* 各ノードでは渡された値に微分値を掛ける\n",
        "\n",
        "各ニューロンの要素をそれぞれ順方向のプログラム（forward)と、逆方向のプログラム(backword)の２つで構成されるレイヤとして実装を行う。\n"
      ]
    },
    {
      "cell_type": "markdown",
      "metadata": {
        "id": "zhEqjSNybWR-",
        "colab_type": "text"
      },
      "source": [
        "## ReLUレイヤの実装\n",
        "\n",
        "![代替テキスト](https://docs.google.com/drawings/d/e/2PACX-1vSvgNlyRTv8kiaVrxEk4MNumcGohtSS7DDfTkPpTAAUT-I0Ecjhi62dDU8RWQRIlz7eL4XBW2HoAP2g/pub?w=958&h=247)\n",
        "\n",
        "活性化関数ReLUの場合は入力値が０より大きい場合は、その値がそのまま渡される。このため、グラフの傾きすなわち微分値は１であり、逆伝播においては渡された値に１を掛けた値としてそのまま逆伝播させる。\n",
        "\n",
        "\n",
        "pythonでの実装としては、下記のようになる。\n"
      ]
    },
    {
      "cell_type": "code",
      "metadata": {
        "id": "BbOGTwl7neOP",
        "colab_type": "code",
        "outputId": "d30ea5a6-1bd1-4be8-daed-b8480947ce67",
        "colab": {
          "base_uri": "https://localhost:8080/",
          "height": 221
        }
      },
      "source": [
        "# coding: utf-8\n",
        "import numpy as np\n",
        "from common.functions import *\n",
        "from common.util import im2col, col2im\n",
        "\n",
        "\n",
        "class Relu:\n",
        "    def __init__(self):\n",
        "        self.mask = None\n",
        "\n",
        "    def forward(self, x):\n",
        "        self.mask = (x <= 0)\n",
        "        out = x.copy()\n",
        "        out[self.mask] = 0  \n",
        "\n",
        "        return out\n",
        "\n",
        "    def backward(self, dout):\n",
        "        dout[self.mask] = 0\n",
        "        dx = dout\n",
        "\n",
        "        return dx\n",
        "\n",
        "\n",
        "# ReLUレイヤーのコーディングサンプル\n",
        "x = np.array([[1.0,-1.2],[-2.2,1.3]])\n",
        "print(\"----------------\")\n",
        "print(\"もともとの入力値\")\n",
        "print(x)\n",
        "print(\"----------------\")\n",
        "print(\"mask=(x<=0)   マスク値  \")\n",
        "mask=(x<=0)\n",
        "print(mask)\n",
        "print(\"----------------\")\n",
        "print(\"x[mask]=0      Trueの部分をゼロで埋める\")\n",
        "x[mask]=0\n",
        "print(x)"
      ],
      "execution_count": 0,
      "outputs": [
        {
          "output_type": "stream",
          "text": [
            "----------------\n",
            "もともとの入力値\n",
            "[[ 1.  -1.2]\n",
            " [-2.2  1.3]]\n",
            "----------------\n",
            "mask=(x<=0)   マスク値  \n",
            "[[False  True]\n",
            " [ True False]]\n",
            "----------------\n",
            "x[mask]=0      Trueの部分をゼロで埋める\n",
            "[[1.  0. ]\n",
            " [0.  1.3]]\n"
          ],
          "name": "stdout"
        }
      ]
    },
    {
      "cell_type": "markdown",
      "metadata": {
        "id": "Fjv9Jjb7sjJe",
        "colab_type": "text"
      },
      "source": [
        "## シグモイドレイヤの実装\n",
        "\n",
        "今回のMNSITデータ分析では利用しないが、シグモイド関数の逆伝播について記述する\n",
        "\n",
        "\n",
        "\n",
        "![シグモイド関数](https://docs.google.com/drawings/d/e/2PACX-1vSPiq7ffbs0PiyFDXrg93J1t3KdMq0eAnCoVC_JfD62LrszzR9t_4c3U76pF_SvNhDCxeKplvJrBIL_/pub?w=182&h=100)\n",
        "\n",
        "シグモイド関数の微分を解く\n",
        "$y = \\frac{1}{1 + e^{-x}}$\n",
        "---\n",
        "$t=1 + e^{-x}$と置くと  \n",
        "---\n",
        "<h1>\n",
        "&nbsp;&nbsp;$\\frac{∂y}{∂x} = \\frac{∂y}{∂t} \\frac{∂t}{∂x} $ </br>\n",
        "&nbsp;&nbsp;&nbsp;&nbsp;&nbsp;&nbsp;&nbsp;&nbsp; $ = \\frac{∂}{∂t}\\frac{1}{t}・ \\frac{∂}{∂x}(1+e^{-x}) $</br>\n",
        "&nbsp;&nbsp;&nbsp;&nbsp;&nbsp;&nbsp;&nbsp;&nbsp; $ = \\frac{∂}{∂t}t^{-1}・ \\frac{∂}{∂x}(1+e^{-x}) $ </br>\n",
        "&nbsp;&nbsp;&nbsp;&nbsp;&nbsp;&nbsp;&nbsp;&nbsp; $ = -t^{-2}・{- e^{-x} }$ </br>\n",
        "&nbsp;&nbsp;&nbsp;&nbsp;&nbsp;&nbsp;&nbsp;&nbsp; $ = -(1 + e^{-x})^{-2}・{- e^{-x} }$ </br>\n",
        "&nbsp;&nbsp;&nbsp;&nbsp;&nbsp;&nbsp;&nbsp;&nbsp; $ = \\frac{1}{(1 + e^{-x})^2}・ e^{-x} $ 　　　　・・・①</br>\n",
        "\n",
        "</br>\n",
        "一方$e^{-x}$を$y$で表すと</br>\n",
        "\n",
        "$y = \\frac{1}{1 + e^{-x}}$\n",
        "---\n",
        "$y・(1 + e^{-x}) = 1$\n",
        "---\n",
        "$1 + e^{-x} = \\frac{1}{y}$\n",
        "---\n",
        "$e^{-x} = \\frac{1}{y}-1$　　　・・・②\n",
        "---\n",
        "\n",
        "①、②より\n",
        "\n",
        "&nbsp;&nbsp;$\\frac{∂y}{∂x} =  \\frac{1}{(1 + e^{-x})^2}・ e^{-x} $ </br>\n",
        "---\n",
        "&nbsp;&nbsp;&nbsp;&nbsp;&nbsp;&nbsp;&nbsp;&nbsp; $ = y^2・ (\\frac{1}{y}-1) $ </br>\n",
        "---\n",
        "&nbsp;&nbsp;&nbsp;&nbsp;&nbsp;&nbsp;&nbsp;&nbsp; $ = y-y^2 $ </br>\n",
        "---\n",
        "&nbsp;&nbsp;&nbsp;&nbsp;&nbsp;&nbsp;&nbsp;&nbsp; $ = y(1-y) $ </br>\n",
        "---\n",
        "\n",
        "</h1>\n",
        "\n",
        "![代替テキスト](https://docs.google.com/drawings/d/e/2PACX-1vQbSo7K6xNPYZ6uZsEVr25lCTd-IyL_CvHxUBz_qnTGHR6_9ccFON4N9tWrGwZwPsJJJwKhqVtOu9yE/pub?w=476&h=224)\n",
        "\n",
        "\n",
        "実装としては下記の通り\n",
        "```\n",
        "class Sigmoid:\n",
        "    def __init__(self):\n",
        "        self.out = None\n",
        "\n",
        "    def forward(self, x):\n",
        "        out = sigmoid(x)\n",
        "        self.out = out\n",
        "        return out\n",
        "\n",
        "    def backward(self, dout):\n",
        "        dx = dout * (1.0 - self.out) * self.out\n",
        "\n",
        "        return dx\n",
        "\n",
        "```\n",
        "\n",
        "\n"
      ]
    },
    {
      "cell_type": "markdown",
      "metadata": {
        "id": "jcXyEuBJOvZg",
        "colab_type": "text"
      },
      "source": [
        "## Affineレイヤの実装\n",
        "\n",
        "各ニューロンは複数からの信号と重み付けを受け取りそれらの総和を活性化関数に引き渡している。\n",
        "\n",
        "![パーセプトロン](https://docs.google.com/drawings/d/e/2PACX-1vSpMVD85wOprci70XqNYFpaA3gNI_rTRVezumjEJ6trAHQ6qMq7gPA-PH7bDzHfOkMb-pEKQXxSOvs_/pub?w=302&h=220)\n",
        "\n",
        "先程はこの活性化関数を一つのレイヤとして実装した。Affineレイヤはその前段として、各ノードからの値と重みを掛け合わせ、バイアスを付加する部分を受け持つ。\n",
        "\n",
        "\n",
        "* affineとは幾何学における写像を意味する。\n",
        "\n",
        "```\n",
        "class Affine:\n",
        "    def __init__(self, W, b):\n",
        "        self.W =W\n",
        "        self.b = b\n",
        "        self.x = None\n",
        "        self.dW = None\n",
        "        self.db = None\n",
        "\n",
        "    def forward(self, x):\n",
        "        self.x = x\n",
        "        out = np.dot(self.x, self.W) + self.b\n",
        "\n",
        "        return out\n",
        "\n",
        "    def backward(self, dout):\n",
        "        dx = np.dot(dout, self.W.T)\n",
        "        self.dW = np.dot(self.x.T, dout)\n",
        "        self.db = np.sum(dout, axis=0)\n",
        "        \n",
        "        return dx\n",
        "\n",
        "```\n",
        "\n",
        "\n"
      ]
    },
    {
      "cell_type": "markdown",
      "metadata": {
        "id": "pk6CydMIYl5i",
        "colab_type": "text"
      },
      "source": [
        "## Softmax with Lossレイヤの実装\n",
        "ニューラルネットワークの最終段階としてソフトマックス関数による確信度の計算とそれを評価する損失関数のレイヤを同時に定義する。なお、ここでは損失関数を交差エントロピーとしている。\n",
        "\n",
        "\n",
        "```\n",
        "class SoftmaxWithLoss:\n",
        "    def __init__(self):\n",
        "        self.loss = None\n",
        "        self.y = None # softmaxの出力\n",
        "        self.t = None # 教師データ\n",
        "\n",
        "    def forward(self, x, t):\n",
        "        self.t = t\n",
        "        self.y = softmax(x)\n",
        "        self.loss = cross_entropy_error(self.y, self.t)\n",
        "        \n",
        "        return self.loss\n",
        "\n",
        "    def backward(self, dout=1):\n",
        "        batch_size = self.t.shape[0]\n",
        "        if self.t.size == self.y.size: # 教師データがone-hot-vectorの場合\n",
        "            dx = (self.y - self.t) / batch_size\n",
        "        else:\n",
        "            dx = self.y.copy()\n",
        "            dx[np.arange(batch_size), self.t] -= 1\n",
        "            dx = dx / batch_size\n",
        "        \n",
        "        return dx\n",
        "```\n",
        "\n",
        "\n"
      ]
    },
    {
      "cell_type": "markdown",
      "metadata": {
        "id": "O8t2eRU2cpbB",
        "colab_type": "text"
      },
      "source": [
        "## 全体実装\n",
        "\n",
        "![代替テキスト](https://docs.google.com/drawings/d/e/2PACX-1vRz5JqHaZeJ2QZy31JlNOiROYOsYd5q1nZ29G79UH3MEM0cAN9zn_v717IeMl0_rUXsw82679O8aEmk/pub?w=599&h=413)\n",
        "\n",
        "隠れ層を５０とした２層のニューラルネットワークを実装する"
      ]
    },
    {
      "cell_type": "code",
      "metadata": {
        "id": "r1DwAqg0gg8j",
        "colab_type": "code",
        "outputId": "bb68526f-9c1b-4723-85c9-bb02b0a78e5b",
        "colab": {
          "base_uri": "https://localhost:8080/",
          "height": 34
        }
      },
      "source": [
        "%cd /content/deep-learning-from-scratch/ch04\n",
        "\n",
        "# coding: utf-8\n",
        "import sys, os\n",
        "sys.path.append(os.pardir)  # 親ディレクトリのファイルをインポートするための設定\n",
        "import numpy as np\n",
        "from common.layers import *\n",
        "from common.gradient import numerical_gradient\n",
        "from collections import OrderedDict\n",
        "\n",
        "\n",
        "class TwoLayerNet:\n",
        "\n",
        "    def __init__(self, input_size, hidden_size, output_size, weight_init_std = 0.01):\n",
        "        # 重みの初期化\n",
        "        self.params = {}\n",
        "        self.params['W1'] = weight_init_std * np.random.randn(input_size, hidden_size)\n",
        "        self.params['b1'] = np.zeros(hidden_size)\n",
        "        self.params['W2'] = weight_init_std * np.random.randn(hidden_size, output_size) \n",
        "        self.params['b2'] = np.zeros(output_size)\n",
        "\n",
        "        # レイヤの生成\n",
        "        self.layers = OrderedDict()\n",
        "        self.layers['Affine1'] = Affine(self.params['W1'], self.params['b1'])\n",
        "        self.layers['Relu1'] = Relu()\n",
        "        self.layers['Affine2'] = Affine(self.params['W2'], self.params['b2'])\n",
        "\n",
        "        self.lastLayer = SoftmaxWithLoss()\n",
        "        \n",
        "    def predict(self, x):\n",
        "        for layer in self.layers.values():\n",
        "            x = layer.forward(x)\n",
        "        \n",
        "        return x\n",
        "        \n",
        "    # x:入力データ, t:教師データ\n",
        "    def loss(self, x, t):\n",
        "        y = self.predict(x)\n",
        "        return self.lastLayer.forward(y, t)\n",
        "    \n",
        "    def accuracy(self, x, t):\n",
        "        y = self.predict(x)\n",
        "        y = np.argmax(y, axis=1)\n",
        "        if t.ndim != 1 : t = np.argmax(t, axis=1)\n",
        "        \n",
        "        accuracy = np.sum(y == t) / float(x.shape[0])\n",
        "        return accuracy\n",
        "        \n",
        "    # x:入力データ, t:教師データ\n",
        "    def numerical_gradient(self, x, t):\n",
        "        loss_W = lambda W: self.loss(x, t)\n",
        "        \n",
        "        grads = {}\n",
        "        grads['W1'] = numerical_gradient(loss_W, self.params['W1'])\n",
        "        grads['b1'] = numerical_gradient(loss_W, self.params['b1'])\n",
        "        grads['W2'] = numerical_gradient(loss_W, self.params['W2'])\n",
        "        grads['b2'] = numerical_gradient(loss_W, self.params['b2'])\n",
        "        \n",
        "        return grads\n",
        "        \n",
        "    def gradient(self, x, t):\n",
        "        # forward\n",
        "        self.loss(x, t)\n",
        "\n",
        "        # backward\n",
        "        dout = 1\n",
        "        dout = self.lastLayer.backward(dout)\n",
        "        \n",
        "        layers = list(self.layers.values())\n",
        "        layers.reverse()\n",
        "        for layer in layers:\n",
        "            dout = layer.backward(dout)\n",
        "\n",
        "        # 設定\n",
        "        grads = {}\n",
        "        grads['W1'], grads['b1'] = self.layers['Affine1'].dW, self.layers['Affine1'].db\n",
        "        grads['W2'], grads['b2'] = self.layers['Affine2'].dW, self.layers['Affine2'].db\n",
        "\n",
        "        return grads\n"
      ],
      "execution_count": 9,
      "outputs": [
        {
          "output_type": "stream",
          "text": [
            "/content/deep-learning-from-scratch/ch04\n"
          ],
          "name": "stdout"
        }
      ]
    },
    {
      "cell_type": "code",
      "metadata": {
        "id": "QeqOtvwzgjW_",
        "colab_type": "code",
        "outputId": "64bb85f0-b28f-42f7-923a-9a9878ae5f5c",
        "colab": {
          "base_uri": "https://localhost:8080/",
          "height": 306
        }
      },
      "source": [
        "# coding: utf-8\n",
        "import sys, os\n",
        "sys.path.append(os.pardir)\n",
        "\n",
        "import numpy as np\n",
        "from dataset.mnist import load_mnist\n",
        "from two_layer_net import TwoLayerNet\n",
        "\n",
        "# データの読み込み\n",
        "(x_train, t_train), (x_test, t_test) = load_mnist(normalize=True, one_hot_label=True)\n",
        "\n",
        "network = TwoLayerNet(input_size=784, hidden_size=50, output_size=10)\n",
        "\n",
        "iters_num = 10000\n",
        "train_size = x_train.shape[0]\n",
        "batch_size = 100\n",
        "learning_rate = 0.1\n",
        "\n",
        "train_loss_list = []\n",
        "train_acc_list = []\n",
        "test_acc_list = []\n",
        "\n",
        "iter_per_epoch = max(train_size / batch_size, 1)\n",
        "\n",
        "for i in range(iters_num):\n",
        "    batch_mask = np.random.choice(train_size, batch_size)\n",
        "    x_batch = x_train[batch_mask]\n",
        "    t_batch = t_train[batch_mask]\n",
        "    \n",
        "    # 勾配\n",
        "    grad = network.gradient(x_batch, t_batch)\n",
        "    \n",
        "    # 更新\n",
        "    for key in ('W1', 'b1', 'W2', 'b2'):\n",
        "        network.params[key] -= learning_rate * grad[key]\n",
        "    \n",
        "    loss = network.loss(x_batch, t_batch)\n",
        "    train_loss_list.append(loss)\n",
        "    \n",
        "    if i % iter_per_epoch == 0:\n",
        "        train_acc = network.accuracy(x_train, t_train)\n",
        "        test_acc = network.accuracy(x_test, t_test)\n",
        "        train_acc_list.append(train_acc)\n",
        "        test_acc_list.append(test_acc)\n",
        "        print(train_acc, test_acc)\n"
      ],
      "execution_count": 10,
      "outputs": [
        {
          "output_type": "stream",
          "text": [
            "0.10218333333333333 0.101\n",
            "0.7830833333333334 0.788\n",
            "0.8773833333333333 0.8839\n",
            "0.8996833333333333 0.9024\n",
            "0.9082 0.9103\n",
            "0.9147333333333333 0.9176\n",
            "0.9202833333333333 0.9232\n",
            "0.9246333333333333 0.9261\n",
            "0.9279833333333334 0.9303\n",
            "0.9317333333333333 0.9328\n",
            "0.9340166666666667 0.9342\n",
            "0.9372166666666667 0.938\n",
            "0.9396166666666667 0.9405\n",
            "0.9422833333333334 0.9412\n",
            "0.9436833333333333 0.9427\n",
            "0.9447166666666666 0.9451\n",
            "0.9471166666666667 0.9449\n"
          ],
          "name": "stdout"
        }
      ]
    },
    {
      "cell_type": "code",
      "metadata": {
        "id": "cH_Hoc7tz6iw",
        "colab_type": "code",
        "colab": {}
      },
      "source": [
        "# Tesnsorflow アップグレードツール\n",
        "!tf_upgrade_v2 --infile /content/TensorFlowDL-samples/nn/mnist.py --outfile /content/TensorFlowDL-samples/nn/mnist2.py"
      ],
      "execution_count": 0,
      "outputs": []
    },
    {
      "cell_type": "code",
      "metadata": {
        "id": "Ou4kg_4hyHD6",
        "colab_type": "code",
        "outputId": "86d65149-f5c4-48cd-8b6b-757605051d38",
        "colab": {
          "base_uri": "https://localhost:8080/",
          "height": 814
        }
      },
      "source": [
        "#---------------------------------------------------------------------------\n",
        "#   TensorFlowを使ったサンプル\n",
        "#---------------------------------------------------------------------------\n",
        "\n",
        "!git clone https://github.com/thinkitcojp/TensorFlowDL-samples.git\n",
        "\n",
        "#-*- coding:utf-8 -*-\n",
        "from tensorflow.examples.tutorials.mnist import input_data\n",
        "import tensorflow as tf\n",
        "\n",
        "#mnistデータを格納したオブジェクトを呼び出す\n",
        "mnist = input_data.read_data_sets(\"data/\", one_hot=True)\n",
        "\n",
        "#入力データを定義\n",
        "x = tf.compat.v1.placeholder(tf.float32, [None, 784])\n",
        "\n",
        "#入力層から中間層\n",
        "w_1 = tf.Variable(tf.random.truncated_normal([784, 50], stddev=0.1), name=\"w1\")\n",
        "b_1 = tf.Variable(tf.zeros([50]), name=\"b1\")\n",
        "h_1 = tf.nn.relu(tf.matmul(x, w_1) + b_1)\n",
        "\n",
        "#中間層から出力層\n",
        "w_2 = tf.Variable(tf.random.truncated_normal([50, 10], stddev=0.1), name=\"w2\")\n",
        "b_2 = tf.Variable(tf.zeros([10]), name=\"b2\")\n",
        "out = tf.nn.softmax(tf.matmul(h_1, w_2) + b_2)\n",
        "\n",
        "#誤差関数\n",
        "y = tf.compat.v1.placeholder(tf.float32, [None, 10])\n",
        "#loss = tf.reduce_mean(input_tensor=tf.square(y - out))\n",
        "loss = tf.reduce_mean(-tf.reduce_sum(y * tf.log(out + 1e-5),axis=[1]))\n",
        "\n",
        "#訓練\n",
        "train_step = tf.compat.v1.train.GradientDescentOptimizer(0.5).minimize(loss)\n",
        "\n",
        "#評価\n",
        "correct = tf.equal(tf.argmax(input=out,axis=1), tf.argmax(input=y,axis=1))\n",
        "accuracy = tf.reduce_mean(input_tensor=tf.cast(correct, tf.float32))\n",
        "\n",
        "#初期化\n",
        "init =tf.compat.v1.global_variables_initializer()\n",
        "\n",
        "with tf.compat.v1.Session() as sess:\n",
        " \n",
        "    sess.run(init)    \n",
        "\n",
        "    #テストデータをロード    \n",
        "    test_images = mnist.test.images    \n",
        "    test_labels = mnist.test.labels    \n",
        "\n",
        "    step = 0    \n",
        "    for i in range(1000):\n",
        "        step = i + 1        \n",
        "        train_images, train_labels = mnist.train.next_batch(50)\n",
        "        sess.run(train_step, feed_dict={x:train_images ,y:train_labels})\n",
        "\n",
        "        if step % 100 == 0:\n",
        "            acc_val = sess.run(accuracy ,feed_dict={x:test_images, y:test_labels})\n",
        "            print('Step %d: accuracy = %.3f' % (step, acc_val))\n"
      ],
      "execution_count": 11,
      "outputs": [
        {
          "output_type": "stream",
          "text": [
            "Cloning into 'TensorFlowDL-samples'...\n",
            "remote: Enumerating objects: 73, done.\u001b[K\n",
            "remote: Total 73 (delta 0), reused 0 (delta 0), pack-reused 73\u001b[K\n",
            "Unpacking objects: 100% (73/73), done.\n"
          ],
          "name": "stdout"
        },
        {
          "output_type": "display_data",
          "data": {
            "text/html": [
              "<p style=\"color: red;\">\n",
              "The default version of TensorFlow in Colab will soon switch to TensorFlow 2.x.<br>\n",
              "We recommend you <a href=\"https://www.tensorflow.org/guide/migrate\" target=\"_blank\">upgrade</a> now \n",
              "or ensure your notebook will continue to use TensorFlow 1.x via the <code>%tensorflow_version 1.x</code> magic:\n",
              "<a href=\"https://colab.research.google.com/notebooks/tensorflow_version.ipynb\" target=\"_blank\">more info</a>.</p>\n"
            ],
            "text/plain": [
              "<IPython.core.display.HTML object>"
            ]
          },
          "metadata": {
            "tags": []
          }
        },
        {
          "output_type": "stream",
          "text": [
            "WARNING:tensorflow:From <ipython-input-11-c6156c8d9581>:9: read_data_sets (from tensorflow.contrib.learn.python.learn.datasets.mnist) is deprecated and will be removed in a future version.\n",
            "Instructions for updating:\n",
            "Please use alternatives such as official/mnist/dataset.py from tensorflow/models.\n",
            "WARNING:tensorflow:From /usr/local/lib/python3.6/dist-packages/tensorflow_core/contrib/learn/python/learn/datasets/mnist.py:260: maybe_download (from tensorflow.contrib.learn.python.learn.datasets.base) is deprecated and will be removed in a future version.\n",
            "Instructions for updating:\n",
            "Please write your own downloading logic.\n",
            "WARNING:tensorflow:From /usr/local/lib/python3.6/dist-packages/tensorflow_core/contrib/learn/python/learn/datasets/base.py:252: _internal_retry.<locals>.wrap.<locals>.wrapped_fn (from tensorflow.contrib.learn.python.learn.datasets.base) is deprecated and will be removed in a future version.\n",
            "Instructions for updating:\n",
            "Please use urllib or similar directly.\n",
            "Successfully downloaded train-images-idx3-ubyte.gz 9912422 bytes.\n",
            "WARNING:tensorflow:From /usr/local/lib/python3.6/dist-packages/tensorflow_core/contrib/learn/python/learn/datasets/mnist.py:262: extract_images (from tensorflow.contrib.learn.python.learn.datasets.mnist) is deprecated and will be removed in a future version.\n",
            "Instructions for updating:\n",
            "Please use tf.data to implement this functionality.\n",
            "Extracting data/train-images-idx3-ubyte.gz\n",
            "Successfully downloaded train-labels-idx1-ubyte.gz 28881 bytes.\n",
            "WARNING:tensorflow:From /usr/local/lib/python3.6/dist-packages/tensorflow_core/contrib/learn/python/learn/datasets/mnist.py:267: extract_labels (from tensorflow.contrib.learn.python.learn.datasets.mnist) is deprecated and will be removed in a future version.\n",
            "Instructions for updating:\n",
            "Please use tf.data to implement this functionality.\n",
            "Extracting data/train-labels-idx1-ubyte.gz\n",
            "WARNING:tensorflow:From /usr/local/lib/python3.6/dist-packages/tensorflow_core/contrib/learn/python/learn/datasets/mnist.py:110: dense_to_one_hot (from tensorflow.contrib.learn.python.learn.datasets.mnist) is deprecated and will be removed in a future version.\n",
            "Instructions for updating:\n",
            "Please use tf.one_hot on tensors.\n",
            "Successfully downloaded t10k-images-idx3-ubyte.gz 1648877 bytes.\n",
            "Extracting data/t10k-images-idx3-ubyte.gz\n",
            "Successfully downloaded t10k-labels-idx1-ubyte.gz 4542 bytes.\n",
            "Extracting data/t10k-labels-idx1-ubyte.gz\n",
            "WARNING:tensorflow:From /usr/local/lib/python3.6/dist-packages/tensorflow_core/contrib/learn/python/learn/datasets/mnist.py:290: DataSet.__init__ (from tensorflow.contrib.learn.python.learn.datasets.mnist) is deprecated and will be removed in a future version.\n",
            "Instructions for updating:\n",
            "Please use alternatives such as official/mnist/dataset.py from tensorflow/models.\n",
            "Step 100: accuracy = 0.883\n",
            "Step 200: accuracy = 0.908\n",
            "Step 300: accuracy = 0.919\n",
            "Step 400: accuracy = 0.927\n",
            "Step 500: accuracy = 0.939\n",
            "Step 600: accuracy = 0.946\n",
            "Step 700: accuracy = 0.950\n",
            "Step 800: accuracy = 0.944\n",
            "Step 900: accuracy = 0.953\n",
            "Step 1000: accuracy = 0.941\n"
          ],
          "name": "stdout"
        }
      ]
    },
    {
      "cell_type": "markdown",
      "metadata": {
        "id": "PHSKcdTAh34r",
        "colab_type": "text"
      },
      "source": [
        "# 実装上の課題\n",
        "これまでのところで大まかなAIの仕組みについて学習を行った。ここではAIを実際に実装する場合に問題となる諸課題について概覧する"
      ]
    },
    {
      "cell_type": "markdown",
      "metadata": {
        "id": "G6Nhb3Cbip3l",
        "colab_type": "text"
      },
      "source": [
        "## 勾配降下法の問題点\n",
        "\n",
        "勾配降下法によって最も損失関数が小さくなる値を求める場合、問題としてはその出発点によっては目標の最小値にたどり着けない点である。\n",
        "\n",
        "![代替テキスト](https://docs.google.com/drawings/d/e/2PACX-1vQhdzzAYjQ8Uxgs4-7bZ1soV_wPt1M47ll436PPh2y6d-rOE9cU4voWgVO9QcMIFCq5V6-OV9D7DWbf/pub?w=791&h=386)"
      ]
    },
    {
      "cell_type": "markdown",
      "metadata": {
        "id": "SNxOjZlCkGnQ",
        "colab_type": "text"
      },
      "source": [
        "### SGD(確率的勾配降下法）\n",
        "先に実装した例は確率的勾配降下法と呼ばれる手法である。これは与えられたデータ毎にWeightとLossのグラフ形状に揺らぎが生じることを利用している。この特性により、全体の中の一部をランダムに選び出すことで、落とし穴のないデータが適宜挿入されることにより、確率的に目標の値に着地させる方法である。\n",
        "\n",
        "\n"
      ]
    },
    {
      "cell_type": "markdown",
      "metadata": {
        "id": "JHKb_BQxmkXk",
        "colab_type": "text"
      },
      "source": [
        "#### 標準的な探索方法\n",
        "\n",
        "基本的には微分値がマイナスとなる方向に予め定められた量を移動させることで、最適解を探索する。\n",
        "\n",
        "![代替テキスト](https://docs.google.com/drawings/d/e/2PACX-1vRwN3IoFQ1PPyVor6NoQbXQohRqEc9S1SRLO7zHR2KbbgxkR7EpC-GUqUzKazvEsrUhJ3dH6M3Gb3Ze/pub?w=791&h=386)\n",
        "\n",
        "この予め定めらた量は学習率（Learning Rate）ηで示される。この学習率の設定は経験的に定められる。上図の場合では学習率が大きいため、一旦かなり最適解に近づくものの、その次では最適解を通り越してしまい、いわゆる振り子状態が長く続く点が問題となる。\n",
        "\n",
        "#### Momentumによる探索\n",
        "これは常にひつ前の移動量を保存しておき、その前回移動量の一定割合をマイナスに作用させる探索方法であり、これにより見かけ上は慣性的な力が加わることで、自由振り子状態を緩和させることができる。\n",
        "\n",
        "#### AdaGrad\n",
        "これは各学習段階の履歴を保存し、過去の学習量に比例して移動量を減らしてゆく手法である。\n",
        "\n",
        "#### Adam\n",
        "Momentum + AdaGradによる探索法\n",
        "\n"
      ]
    },
    {
      "cell_type": "markdown",
      "metadata": {
        "id": "PNwK5Dh6wpQZ",
        "colab_type": "text"
      },
      "source": [
        "## 重みの初期値\n",
        "例題では重みの初期値はガウス分布を用いたが、代表的な初期値は２つ。\n",
        "\n",
        "### Xaivierの初期値　ザビエル\n",
        "　Xaivierの初期値は様々なニューラルネットで用いられている。sigmoid関数やtanh関数を活性化関数として用いる時、このXavierの初期値を用いるとよい。\n",
        "\n",
        "### Heの初期値\n",
        "　Heの初期値はReLU関数を活性化関数とするときに用いるとよい。ReLU関数を活性化関数としたモデルにXavierの初期値を用いるとアクティベーション分布に偏りが生じやすくなることが知られている。\n",
        "\n",
        "\n"
      ]
    },
    {
      "cell_type": "markdown",
      "metadata": {
        "id": "UwLF9myly9Bq",
        "colab_type": "text"
      },
      "source": [
        "## Batch Normalization\n",
        "![代替テキスト](https://docs.google.com/drawings/d/e/2PACX-1vSa-QlDlMx_WFHsisso0ulsManhVjcWxVxWfbZtlVesNnlaSnlK2gOyLk-dS8DPbWuHMMUexEWTwhqL/pub?w=397&h=206)\n",
        "\n",
        "これはミニバッチ単位に入力データの値を平均がゼロ、分散が１となるように統計的に調整するレイヤーを挟み込むことで下記のような効果が得られる。\n",
        "* 学習が早く進む\n",
        "* 初期パラメータへの依存度が下がる\n",
        "* 過学習を抑制できる\n",
        "\n"
      ]
    },
    {
      "cell_type": "markdown",
      "metadata": {
        "id": "fNsvfi0O01dO",
        "colab_type": "text"
      },
      "source": [
        "## 過学習への対応\n",
        "　過学習とは訓練データにフィットしすぎて未知データに対してはかえって認識率が低くなる状態をさす。この過学習を防ぐための仕組みとしてWeight DecayとDropoutについて述べる\n",
        "\n",
        "### Weight Decay\n",
        "　過学習の原因として重みの値が極端に大きくなる事が知られており、これに対応する方法として構築された手法。  \n",
        "　損失関数に重みWを要素とした値を加えることで、大きな重みが損失を大きくするように調整する。\n",
        "\n",
        "### Drop Out\n",
        "\n",
        "![代替テキスト](https://docs.google.com/drawings/d/e/2PACX-1vRhsO9inUmkCqld72pxTJNfqejbccG7V0WeBBZq-TmtrEWpv_shAhVb_O-8KbRPD0FXDwxX99iIBhYj/pub?w=595&h=229)\n",
        "\n",
        "　途中のニューロンをミニバッチ毎にランダムに間引くことで、信号の経路を複数パターンで学習させる。その際に飛ばされたニューロンを代替するニューロンは余計に信号を学習する？　ことで全体の効率が上がる？　らしい。\n",
        "\n",
        "\n"
      ]
    },
    {
      "cell_type": "markdown",
      "metadata": {
        "id": "SMHip9gy0EvT",
        "colab_type": "text"
      },
      "source": [
        "# CNN畳み込みニューラルネットワーク\n",
        "　畳み込みニューラルネットワークとは、画像処理のような縦、横、色深度などの次元をもったデータの解析を行う場合に、一旦その次元を保ったまま画像の特徴を抽出・正規化し、これを最終層ではこれまでに学んだ隠れ層による一次元のニューラルネットワークに接続させる構造となっている。\n",
        "\n",
        "　画像の処理はそれまでOpenCVなどにより様々な成果が挙げられてきた。画像の圧縮、明暗や色相の変換、画像のエッジ強調、画像のぼかしなどである。\n",
        "\n",
        "　CNNではこれらの画像に対するフィルターを機械学習により作り出すところが大きなポイントとなる。この画像フィルターをCNNではカーネルとも呼ぶ。\n",
        "\n",
        "[CNN解説](http://sinhrks.hatenablog.com/entry/2014/12/07/203048)\n",
        "\n",
        "![代替テキスト](http://cdn-ak.f.st-hatena.com/images/fotolife/s/sinhrks/20141214/20141214220532.png)"
      ]
    },
    {
      "cell_type": "markdown",
      "metadata": {
        "id": "TILtn869B4Vf",
        "colab_type": "text"
      },
      "source": [
        "## 畳込み層\n",
        "\n",
        "### フィルター演算の基本\n",
        "\n",
        "![代替テキスト](https://kenyu-life.com/wp-content/uploads/2019/03/cnn.gif)\n",
        "\n",
        "　画像データにフィルターとなる数字群を重ね合わせ、それぞれを掛け算した合計値を「特徴マップ」として出力する。\n",
        "\n",
        "　このフィルター（カーネル）の数値が機械学習によって決定されてゆく。これは先のニューラルネットワークの重みWと同様の手順（バックプロパゲーション）で求める。\n",
        "\n",
        "### ストライド\n",
        "　フィルターの移動量をストライドと呼ぶ。上図ではストライド１である。ストライドを２とすると当然であるが、出力される特徴マップはサイズが小さくなる。\n",
        "\n",
        "\n",
        "### パディング\n",
        "　単純にフィルターを適用すると、必ず画像のサイズが小さくなってしまう。これを防ぐためにパディングとよばれる値がゼロのデータを画像データに予め付加して、フィルター演算によるサイズ低下を防ぐ事ができる。"
      ]
    },
    {
      "cell_type": "markdown",
      "metadata": {
        "id": "jZONoSP__gMQ",
        "colab_type": "text"
      },
      "source": [
        "## ３次元での畳込み層\n",
        "\n",
        "![代替テキスト](https://kenyu-life.com/wp-content/uploads/2019/03/3cnn.gif)\n",
        "\n",
        "　縦、横、色深度の三次元データでは、フィルターも３次元必要となる。なお、各フィルターの内容は異なるが、フィルターのサイズはすべて同じである。\n",
        "\n",
        "　このフィルターの出力値のそれぞれにバイアス値を掛け、合計した結果が特徴マップとして出力される。\n",
        "\n",
        "　画像データ的に言うと、カラーがグレースケールに変換されるイメージ。\n",
        "\n",
        "\n",
        "### 複数フィルター\n",
        "　フィルターは通常、複数設定される。上記の例ではRGBのフィルターが複数設定されることとなる。\n",
        "\n",
        "\n",
        "### バッチ処理\n",
        "　ここでもバッチ処理を実施するために、複数枚の画像を一度に処理する。\n",
        "\n",
        "\n"
      ]
    },
    {
      "cell_type": "markdown",
      "metadata": {
        "id": "3uHib5aF_mnY",
        "colab_type": "text"
      },
      "source": [
        "## プーリング層\n",
        "\n",
        "![代替テキスト](https://kenyu-life.com/wp-content/uploads/2019/03/pooling.gif)\n",
        "\n",
        "　プーリング層は画像を圧縮する。\n",
        "\n",
        "### maxスプーリング\n",
        "　指定された領域の最大値をマッピングする\n",
        "\n",
        "### avgプーリング\n",
        "　指定された領域の平均値をマッピングする\n",
        "\n",
        "\n",
        "　このプーリング層により画像の圧縮が行われ、細かい部分が削られる。全体としての情報量は下がるが、より汎化された画像を得ることができる。\n"
      ]
    },
    {
      "cell_type": "markdown",
      "metadata": {
        "id": "hzb7_Q0vc14z",
        "colab_type": "text"
      },
      "source": [
        "## 全体構成\n",
        "\n",
        "![代替テキスト](https://docs.google.com/drawings/d/e/2PACX-1vSh0uknkhuKIBI4ZsJDiGhyMKjtwaKRGIHPfgMrHOagTetYhyOttnLpMnF0rf5ntM4ofp16EmUjPk3x/pub?w=678&h=204)\n",
        "\n",
        "　CNNでは新たに　Convolution　畳込みレイヤ　と　Pooling　プーリングレイヤが加わる。\n"
      ]
    },
    {
      "cell_type": "code",
      "metadata": {
        "id": "qREZUPzQeEF-",
        "colab_type": "code",
        "outputId": "70bcdae8-33e8-4066-c407-6a777f986e0a",
        "colab": {
          "base_uri": "https://localhost:8080/",
          "height": 34
        }
      },
      "source": [
        "%cd /content/deep-learning-from-scratch/ch07\n",
        "\n",
        "# coding: utf-8\n",
        "import sys, os\n",
        "sys.path.append(os.pardir)  # 親ディレクトリのファイルをインポートするための設定\n",
        "import pickle\n",
        "import numpy as np\n",
        "from collections import OrderedDict\n",
        "from common.layers import *\n",
        "from common.gradient import numerical_gradient\n",
        "\n",
        "\n",
        "class SimpleConvNet:\n",
        "    \"\"\"単純なConvNet\n",
        "\n",
        "    conv - relu - pool - affine - relu - affine - softmax\n",
        "    \n",
        "    Parameters\n",
        "    ----------\n",
        "    input_size : 入力サイズ（MNISTの場合は784）\n",
        "    hidden_size_list : 隠れ層のニューロンの数のリスト（e.g. [100, 100, 100]）\n",
        "    output_size : 出力サイズ（MNISTの場合は10）\n",
        "    activation : 'relu' or 'sigmoid'\n",
        "    weight_init_std : 重みの標準偏差を指定（e.g. 0.01）\n",
        "        'relu'または'he'を指定した場合は「Heの初期値」を設定\n",
        "        'sigmoid'または'xavier'を指定した場合は「Xavierの初期値」を設定\n",
        "    \"\"\"\n",
        "    def __init__(self, input_dim=(1, 28, 28), \n",
        "                 conv_param={'filter_num':30, 'filter_size':5, 'pad':0, 'stride':1},\n",
        "                 hidden_size=100, output_size=10, weight_init_std=0.01):\n",
        "        filter_num = conv_param['filter_num']\n",
        "        filter_size = conv_param['filter_size']\n",
        "        filter_pad = conv_param['pad']\n",
        "        filter_stride = conv_param['stride']\n",
        "        input_size = input_dim[1]\n",
        "        conv_output_size = (input_size - filter_size + 2*filter_pad) / filter_stride + 1\n",
        "        pool_output_size = int(filter_num * (conv_output_size/2) * (conv_output_size/2))\n",
        "\n",
        "        # 重みの初期化\n",
        "        self.params = {}\n",
        "        self.params['W1'] = weight_init_std * \\\n",
        "                            np.random.randn(filter_num, input_dim[0], filter_size, filter_size)\n",
        "        self.params['b1'] = np.zeros(filter_num)\n",
        "        self.params['W2'] = weight_init_std * \\\n",
        "                            np.random.randn(pool_output_size, hidden_size)\n",
        "        self.params['b2'] = np.zeros(hidden_size)\n",
        "        self.params['W3'] = weight_init_std * \\\n",
        "                            np.random.randn(hidden_size, output_size)\n",
        "        self.params['b3'] = np.zeros(output_size)\n",
        "\n",
        "        # レイヤの生成\n",
        "        self.layers = OrderedDict()\n",
        "        self.layers['Conv1'] = Convolution(self.params['W1'], self.params['b1'],\n",
        "                                           conv_param['stride'], conv_param['pad'])\n",
        "        self.layers['Relu1'] = Relu()\n",
        "        self.layers['Pool1'] = Pooling(pool_h=2, pool_w=2, stride=2)\n",
        "        self.layers['Affine1'] = Affine(self.params['W2'], self.params['b2'])\n",
        "        self.layers['Relu2'] = Relu()\n",
        "        self.layers['Affine2'] = Affine(self.params['W3'], self.params['b3'])\n",
        "\n",
        "        self.last_layer = SoftmaxWithLoss()\n",
        "\n",
        "    def predict(self, x):\n",
        "        for layer in self.layers.values():\n",
        "            x = layer.forward(x)\n",
        "\n",
        "        return x\n",
        "\n",
        "    def loss(self, x, t):\n",
        "        \"\"\"損失関数を求める\n",
        "        引数のxは入力データ、tは教師ラベル\n",
        "        \"\"\"\n",
        "        y = self.predict(x)\n",
        "        return self.last_layer.forward(y, t)\n",
        "\n",
        "    def accuracy(self, x, t, batch_size=100):\n",
        "        if t.ndim != 1 : t = np.argmax(t, axis=1)\n",
        "        \n",
        "        acc = 0.0\n",
        "        \n",
        "        for i in range(int(x.shape[0] / batch_size)):\n",
        "            tx = x[i*batch_size:(i+1)*batch_size]\n",
        "            tt = t[i*batch_size:(i+1)*batch_size]\n",
        "            y = self.predict(tx)\n",
        "            y = np.argmax(y, axis=1)\n",
        "            acc += np.sum(y == tt) \n",
        "        \n",
        "        return acc / x.shape[0]\n",
        "\n",
        "    def numerical_gradient(self, x, t):\n",
        "        \"\"\"勾配を求める（数値微分）\n",
        "\n",
        "        Parameters\n",
        "        ----------\n",
        "        x : 入力データ\n",
        "        t : 教師ラベル\n",
        "\n",
        "        Returns\n",
        "        -------\n",
        "        各層の勾配を持ったディクショナリ変数\n",
        "            grads['W1']、grads['W2']、...は各層の重み\n",
        "            grads['b1']、grads['b2']、...は各層のバイアス\n",
        "        \"\"\"\n",
        "        loss_w = lambda w: self.loss(x, t)\n",
        "\n",
        "        grads = {}\n",
        "        for idx in (1, 2, 3):\n",
        "            grads['W' + str(idx)] = numerical_gradient(loss_w, self.params['W' + str(idx)])\n",
        "            grads['b' + str(idx)] = numerical_gradient(loss_w, self.params['b' + str(idx)])\n",
        "\n",
        "        return grads\n",
        "\n",
        "    def gradient(self, x, t):\n",
        "        \"\"\"勾配を求める（誤差逆伝搬法）\n",
        "\n",
        "        Parameters\n",
        "        ----------\n",
        "        x : 入力データ\n",
        "        t : 教師ラベル\n",
        "\n",
        "        Returns\n",
        "        -------\n",
        "        各層の勾配を持ったディクショナリ変数\n",
        "            grads['W1']、grads['W2']、...は各層の重み\n",
        "            grads['b1']、grads['b2']、...は各層のバイアス\n",
        "        \"\"\"\n",
        "        # forward\n",
        "        self.loss(x, t)\n",
        "\n",
        "        # backward\n",
        "        dout = 1\n",
        "        dout = self.last_layer.backward(dout)\n",
        "\n",
        "        layers = list(self.layers.values())\n",
        "        layers.reverse()\n",
        "        for layer in layers:\n",
        "            dout = layer.backward(dout)\n",
        "\n",
        "        # 設定\n",
        "        grads = {}\n",
        "        grads['W1'], grads['b1'] = self.layers['Conv1'].dW, self.layers['Conv1'].db\n",
        "        grads['W2'], grads['b2'] = self.layers['Affine1'].dW, self.layers['Affine1'].db\n",
        "        grads['W3'], grads['b3'] = self.layers['Affine2'].dW, self.layers['Affine2'].db\n",
        "\n",
        "        return grads\n",
        "        \n",
        "    def save_params(self, file_name=\"params.pkl\"):\n",
        "        params = {}\n",
        "        for key, val in self.params.items():\n",
        "            params[key] = val\n",
        "        with open(file_name, 'wb') as f:\n",
        "            pickle.dump(params, f)\n",
        "\n",
        "    def load_params(self, file_name=\"params.pkl\"):\n",
        "        with open(file_name, 'rb') as f:\n",
        "            params = pickle.load(f)\n",
        "        for key, val in params.items():\n",
        "            self.params[key] = val\n",
        "\n",
        "        for i, key in enumerate(['Conv1', 'Affine1', 'Affine2']):\n",
        "            self.layers[key].W = self.params['W' + str(i+1)]\n",
        "            self.layers[key].b = self.params['b' + str(i+1)]"
      ],
      "execution_count": 13,
      "outputs": [
        {
          "output_type": "stream",
          "text": [
            "/content/deep-learning-from-scratch/ch07\n"
          ],
          "name": "stdout"
        }
      ]
    },
    {
      "cell_type": "code",
      "metadata": {
        "id": "g0mZMnhGdo0J",
        "colab_type": "code",
        "colab": {}
      },
      "source": [
        "# coding: utf-8\n",
        "import sys, os\n",
        "sys.path.append(os.pardir)  # 親ディレクトリのファイルをインポートするための設定\n",
        "import numpy as np\n",
        "import matplotlib.pyplot as plt\n",
        "from dataset.mnist import load_mnist\n",
        "from simple_convnet import SimpleConvNet\n",
        "from common.trainer import Trainer\n",
        "\n",
        "# データの読み込み\n",
        "(x_train, t_train), (x_test, t_test) = load_mnist(flatten=False)\n",
        "\n",
        "# 処理に時間のかかる場合はデータを削減 \n",
        "#x_train, t_train = x_train[:5000], t_train[:5000]\n",
        "#x_test, t_test = x_test[:1000], t_test[:1000]\n",
        "\n",
        "max_epochs = 20\n",
        "\n",
        "network = SimpleConvNet(input_dim=(1,28,28), \n",
        "                        conv_param = {'filter_num': 30, 'filter_size': 5, 'pad': 0, 'stride': 1},\n",
        "                        hidden_size=100, output_size=10, weight_init_std=0.01)\n",
        "                        \n",
        "trainer = Trainer(network, x_train, t_train, x_test, t_test,\n",
        "                  epochs=max_epochs, mini_batch_size=100,\n",
        "                  optimizer='Adam', optimizer_param={'lr': 0.001},\n",
        "                  evaluate_sample_num_per_epoch=1000)\n",
        "trainer.train()\n",
        "\n",
        "# パラメータの保存\n",
        "network.save_params(\"params.pkl\")\n",
        "print(\"Saved Network Parameters!\")\n",
        "\n",
        "# グラフの描画\n",
        "markers = {'train': 'o', 'test': 's'}\n",
        "x = np.arange(max_epochs)\n",
        "plt.plot(x, trainer.train_acc_list, marker='o', label='train', markevery=2)\n",
        "plt.plot(x, trainer.test_acc_list, marker='s', label='test', markevery=2)\n",
        "plt.xlabel(\"epochs\")\n",
        "plt.ylabel(\"accuracy\")\n",
        "plt.ylim(0, 1.0)\n",
        "plt.legend(loc='lower right')\n",
        "plt.show()\n"
      ],
      "execution_count": 0,
      "outputs": []
    },
    {
      "cell_type": "code",
      "metadata": {
        "id": "F0G8cTdESSMl",
        "colab_type": "code",
        "colab": {}
      },
      "source": [
        "!git clone https://github.com/thinkitcojp/TensorFlowDL-samples.git"
      ],
      "execution_count": 0,
      "outputs": []
    },
    {
      "cell_type": "code",
      "metadata": {
        "id": "USPBs2V9RpKo",
        "colab_type": "code",
        "outputId": "3381d87e-bf45-46c3-f076-1305ae5a0195",
        "colab": {
          "base_uri": "https://localhost:8080/",
          "height": 255
        }
      },
      "source": [
        "#-*- coding:utf-8 -*-\n",
        "from tensorflow.examples.tutorials.mnist import input_data\n",
        "import tensorflow as tf\n",
        "\n",
        "\n",
        "#mnistデータを格納したオブジェクトを呼び出す\n",
        "mnist = input_data.read_data_sets(\"data/\", one_hot=True)\n",
        "\n",
        "\"\"\"モデル構築開始\"\"\"\n",
        "#入力データを定義\n",
        "x = tf.placeholder(tf.float32, [None, 784])\n",
        "#整形\n",
        "img = tf.reshape(x,[-1,28,28,1])\n",
        "\n",
        "#畳み込み層1\n",
        "f1 = tf.Variable(tf.truncated_normal([5,5,1,32], stddev=0.1))\n",
        "conv1 = tf.nn.conv2d(img, f1, strides=[1,1,1,1], padding='SAME')\n",
        "b1 = tf.Variable(tf.constant(0.1, shape=[32]))\n",
        "h_conv1 = tf.nn.relu(conv1+b1)\n",
        "\n",
        "#プーリング層1\n",
        "h_pool1 = tf.nn.max_pool(h_conv1, ksize=[1,2,2,1], strides=[1,2,2,1], padding='SAME')\n",
        "\n",
        "#畳み込み層2\n",
        "f2 = tf.Variable(tf.truncated_normal([5,5,32,64], stddev=0.1))\n",
        "conv2 = tf.nn.conv2d(h_pool1, f2, strides=[1,1,1,1], padding='SAME')\n",
        "b2 = tf.Variable(tf.constant(0.1, shape=[64]))\n",
        "h_conv2 = tf.nn.relu(conv2+b2)\n",
        "#プーリング層2\n",
        "h_pool2 = tf.nn.max_pool(h_conv2, ksize=[1,2,2,1], strides=[1,2,2,1], padding='SAME')\n",
        "\n",
        "\n",
        "#畳み込まれているものをフラットな形に変換\n",
        "h_pool2_flat = tf.reshape(h_pool2, [-1, 7*7*64])\n",
        "\n",
        "#全結合層\n",
        "w_fc1 = tf.Variable(tf.truncated_normal([7*7*64, 1024], stddev=0.1))\n",
        "b_fc1 = tf.Variable(tf.constant(0.1, shape=[1024]))\n",
        "h_fc1 = tf.nn.relu(tf.matmul(h_pool2_flat, w_fc1) + b_fc1)\n",
        "\n",
        "#出力層\n",
        "w_fc2 = tf.Variable(tf.truncated_normal([1024, 10], stddev=0.1))\n",
        "b_fc2 = tf.Variable(tf.constant(0.1, shape=[10]))\n",
        "out = tf.nn.softmax(tf.matmul(h_fc1, w_fc2) + b_fc2)\n",
        "\n",
        "#正解データの型を定義\n",
        "y = tf.placeholder(tf.float32, [None, 10])\n",
        "#誤差関数（クロスエントロピー）\n",
        "loss = tf.reduce_mean(-tf.reduce_sum(y * tf.log(out + 1e-5), axis=[1]))\n",
        "\n",
        "#訓練\n",
        "train_step = tf.train.GradientDescentOptimizer(0.01).minimize(loss)\n",
        "\n",
        "#評価\n",
        "correct = tf.equal(tf.argmax(out,1), tf.argmax(y,1))\n",
        "accuracy = tf.reduce_mean(tf.cast(correct, tf.float32))\n",
        "\n",
        "init =tf.global_variables_initializer()\n",
        "\n",
        "\"\"\"実行部分\"\"\"\n",
        "with tf.Session() as sess:\n",
        "    sess.run(init)\n",
        "    #テストデータをロード\n",
        "    test_images = mnist.test.images\n",
        "    test_labels = mnist.test.labels\n",
        "\n",
        "    for step in range(1000):\n",
        "        train_images, train_labels = mnist.train.next_batch(50)\n",
        "        sess.run(train_step, feed_dict={x:train_images ,y:train_labels})\n",
        "\n",
        "        #100ステップごとに精度を検証\n",
        "        if step % 100 == 0:\n",
        "            acc_val = sess.run( accuracy, feed_dict={x:test_images, y:test_labels})\n",
        "            print('Step %d: accuracy = %.2f' % (step, acc_val))\n",
        "\n",
        "\n",
        "\n"
      ],
      "execution_count": 18,
      "outputs": [
        {
          "output_type": "stream",
          "text": [
            "Extracting data/train-images-idx3-ubyte.gz\n",
            "Extracting data/train-labels-idx1-ubyte.gz\n",
            "Extracting data/t10k-images-idx3-ubyte.gz\n",
            "Extracting data/t10k-labels-idx1-ubyte.gz\n",
            "Step 0: accuracy = 0.17\n",
            "Step 100: accuracy = 0.86\n",
            "Step 200: accuracy = 0.90\n",
            "Step 300: accuracy = 0.93\n",
            "Step 400: accuracy = 0.94\n",
            "Step 500: accuracy = 0.93\n",
            "Step 600: accuracy = 0.95\n",
            "Step 700: accuracy = 0.96\n",
            "Step 800: accuracy = 0.96\n",
            "Step 900: accuracy = 0.96\n"
          ],
          "name": "stdout"
        }
      ]
    },
    {
      "cell_type": "markdown",
      "metadata": {
        "id": "1K3ysJirhdOO",
        "colab_type": "text"
      },
      "source": [
        "## 代表的なCNN Lenet\n",
        "\n",
        "![代替テキスト](https://image.slidesharecdn.com/styletemp-161002182243/95/deep-learning-behind-prisma-17-638.jpg?cb=1475432629)\n",
        "\n",
        "「現在のCNN」と比較すると次の点が異なる\n",
        "* 活性化関数にシグモイド関数を使用(現在はReLU関数)\n",
        "* サブサンプリングによって中間データのサイズ縮小を行っている(現在はMaxプーリング)\n"
      ]
    },
    {
      "cell_type": "markdown",
      "metadata": {
        "id": "VN0rR80O_8-K",
        "colab_type": "text"
      },
      "source": [
        "## 代表的なCNN ALEXNET\n",
        "　CNNの代表的なネットワーク。２０１２年に発表されAI画像解析のブームの火付け役となった。\n",
        "\n",
        "　　　参考　　[深層学習論文の読解（AlexNet)](https://qiita.com/ttomomasa/items/8243f6a29a024a02512f)\n",
        "\n",
        "\n",
        "　このALEXNETの特徴は\n",
        "* 活性化関数にReLUを用いた\n",
        "* LRNというReLUの値を正規化した\n",
        "* DropOUTを用いた\n",
        "* GPUを使った\n",
        "\n",
        "\n",
        "![代替テキスト](https://qiita-user-contents.imgix.net/https%3A%2F%2Fqiita-image-store.s3.amazonaws.com%2F0%2F209049%2Fbbf90731-67c0-2d75-f64e-1272ddebf653.jpeg?ixlib=rb-1.2.2&auto=compress%2Cformat&gif-q=60&w=1400&fit=max&s=dedabee207698ba84f04984640e3c60e)"
      ]
    },
    {
      "cell_type": "markdown",
      "metadata": {
        "id": "WZtCAnun5cjw",
        "colab_type": "text"
      },
      "source": [
        "* 入力画像：256×256を4隅＋中央　の５パターンを左右反転で１０倍にしている\n",
        "* 第1層: 224×224×3の画像を11×11×3の96個のkernelに変換\n",
        "* 第2層: LRN & poolingした結果を5×5×48の256個のkernelに変換\n",
        "* 第3層: LRN & poolingした結果を3×3×256の384個のkernelに変換\n",
        "* 第4層: 3×3×192の384個のkernelに変換\n",
        "* 第5層: 3×3×192の256個のkernelに変換\n",
        "* 2つの全結合層: 4096個のニューロン\n",
        "* 出力層: 1000個のsoft-maxニューロン\n",
        "\n",
        "* Per-pixel Mean Substraction: ピクセル・チャンネルごとに平均を出し入力から差し引く。つまり、256×256×3個の平均値を出し、各入力画像から差し引く。\n",
        "\n",
        "* Overlapping Pooling: Max Poolingを取る時に各unitを今までは「重複しない」ようにしていましたが、「少しかぶる」ようにすると過学習がおきにくくなり精度が向上した。\n",
        "\n",
        "* Local Response Normalization(LRN):不明"
      ]
    },
    {
      "cell_type": "markdown",
      "metadata": {
        "id": "XMtKAclfmZbt",
        "colab_type": "text"
      },
      "source": [
        "# DeepLarning\n",
        "\n",
        "## 認識精度を高めるための手法\n",
        "\n",
        "### 1 Data Augmentation(データ拡張)\n",
        "\n",
        "Data Augmentaionは、上記の移動や回転の他にも、画像の中から一部を切り出す「crop 処理」や、 左右をひっくり返す「flip 処理」など様々な方法で拡張できる。\n",
        "\n",
        "### 2 層を深くする\n",
        " 層を深くすることの重要性について、理論的に多くのことはわからない\n",
        "ただ、層を深くすることで階層的に情報を渡せる(前の層で抽出した特徴を次層で情報として使えるためより高度な学習ができる)\n",
        "層を深くするメリットは、ネットワークのパラメータ数を少なくできる\n",
        "層を深くすれば学習データを少なく、高速に学習ができる(層を深くすると学習する問題を階層的に分解することができる)\n",
        "\n"
      ]
    },
    {
      "cell_type": "markdown",
      "metadata": {
        "id": "FSAnlL3Cmvly",
        "colab_type": "text"
      },
      "source": [
        "### ディープラーニングの小歴史\n",
        "2012 年に開催された大規模画像認識のコンペティション ILSVRC(ImageNet Large Scale Visual Recognition Challenge)で、ディープラーニングによる手法――通称、AlexNet――が、圧倒的な成績 で優勝し、これまでの画像認識に対するアプローチを根底から覆した。まさに、 転換点となった 2012 年のディープラーニングの逆襲により、それ以降のコンペティ ションでは、常にディープラーニングが主役に躍り出た。\n"
      ]
    },
    {
      "cell_type": "markdown",
      "metadata": {
        "id": "H2a69G6ylbUZ",
        "colab_type": "text"
      },
      "source": [
        "### VGG\n",
        "CNNのネットワークを深くしたものをVGGという\n",
        "\n",
        "* 3 × 3 の小さなフィルターによる畳み込み層\n",
        "* 活性化関数は ReLU\n",
        "* 全結合層の後に Dropout レイヤを使用\n",
        "* Adam による最適化\n",
        "* 重みの初期値として「He の初期値」を使用\n",
        "\n",
        "\n",
        "![代替テキスト](https://encrypted-tbn0.gstatic.com/images?q=tbn%3AANd9GcREueOd8UJWmzs6vrCSsOZL20Ysk1p4rqFuHS9hFAXudfu9Oh7r)\n"
      ]
    },
    {
      "cell_type": "markdown",
      "metadata": {
        "id": "unscmVBwnwoS",
        "colab_type": "text"
      },
      "source": [
        "## GoogleNet\n",
        "\n",
        "\n",
        "ネットワークが縦方向の深さだけではなく、横方向にも深さ(広がり)を持っているという点が特徴\n",
        "\n",
        "![代替テキスト](https://encrypted-tbn0.gstatic.com/images?q=tbn%3AANd9GcRQp6Oa6WE55-uZ0sftB4Vwph7kiRG31IszsjFcr7G1a96x3GvB)\n",
        "\n",
        "\n",
        "\n"
      ]
    },
    {
      "cell_type": "markdown",
      "metadata": {
        "id": "leoZVYH9obRZ",
        "colab_type": "text"
      },
      "source": [
        "## Residual Network (ResNet)\n",
        "\n",
        "![代替テキスト](https://www.semiconportal.com/archive/contribution/img/COA160804-01b.gif)\n",
        "\n",
        "* Microsoftが開発\n",
        "* 層をまたいで出力に合算するスキップ構造が特徴\n",
        "\n",
        "* スキップ構造を取り入れることで、層を深くしても効率良く学習することができます。これは、逆伝播の際に、スキップ構造によって信号が減衰することなく伝わっていくから。\n",
        "\n",
        "* スキップ構造は入力データを“そのまま”流すだけ \n",
        "\n",
        "* 勾配が小さくなったり(または大きくなりすぎたり)する心配がなく、層を深くすることで勾配が小さくなる勾配消失問題が軽減\n",
        "\n",
        "* 150 層以上に深くしても認識精度は向上し続ける\n",
        "\n"
      ]
    },
    {
      "cell_type": "markdown",
      "metadata": {
        "id": "xN_3yY0mp3IM",
        "colab_type": "text"
      },
      "source": [
        "## 転移学習\n",
        "\n",
        "* 学習済みの 重みの一部を別のニューラルネットワークにコピーして、再学習を行う。\n",
        "* データセットが少ない場合において有効\n",
        "\n",
        "## ディープラーニングの高速化\n",
        "\n",
        "* GPUによる高速化\n",
        "* 複数のマシンによる並列化\n",
        "* 演算制度の削減による低負荷化(64bit,32bitを16や8bitで演算）\n"
      ]
    },
    {
      "cell_type": "markdown",
      "metadata": {
        "id": "j_fs7-23q9uq",
        "colab_type": "text"
      },
      "source": [
        "## ディープラーニングの実用例\n",
        "### R-CNN 物体検出\n",
        "R-CNNと呼ばれる手法が有名で、最初に物体と物体以外を識別する「候補領域抽出」を行い、抽出された領域に対してCNNでクラス分類を行っている\n",
        "\n",
        "![代替テキスト](https://encrypted-tbn0.gstatic.com/images?q=tbn%3AANd9GcQQBYrottMXMFEaLq05Axcv-Fq4j51rkgIjGso6CQLXJaAyxYPV)"
      ]
    },
    {
      "cell_type": "markdown",
      "metadata": {
        "id": "_5TSlFxtrMWo",
        "colab_type": "text"
      },
      "source": [
        "### セグメンテーション\n",
        "画像に対してピクセルレベルでクラス分類を行う。\n",
        "\n",
        "![代替テキスト](https://encrypted-tbn0.gstatic.com/images?q=tbn%3AANd9GcQzZzCHkaMcYOWDZSagGw440ME4Ba4eScEr4FjgGT4HXHWKtpc1)\n",
        "* FCN (Fully Convolutional Network＝全てが畳み込み層のネットワーク)という手法が有名\n",
        "* 1回のforward処理ですべてのピクセルに対してクラス分類を行い、中間データの空間ボリュームを保持したまま最後の出力まで処理する。\n",
        "* 最後にバイリニア補間による拡大をデコンボリューション（逆畳み込み演算）によって実現する。\n"
      ]
    },
    {
      "cell_type": "markdown",
      "metadata": {
        "id": "7S6hmx-PsWTz",
        "colab_type": "text"
      },
      "source": [
        "## 画像キャプション生成\n",
        "\n",
        "\n",
        "画像を与えると、その画像を説明する文章を自動で生成する  \n",
        "\n",
        "NIC (Neural Image Caption) ではCNNで画像認識、RNN（再帰的なネットワーク）で言語生成を行っている\n",
        "\n",
        "![代替テキスト](https://encrypted-tbn0.gstatic.com/images?q=tbn%3AANd9GcSyXIZmI2t6eOBvL9CC2d7S80fsQedZxmbXozb5Szw_IGGmqxGz)\n",
        "\n",
        "* 画像から CNN によって特徴を抽出し、その特徴をRNNに渡す。\n"
      ]
    },
    {
      "cell_type": "markdown",
      "metadata": {
        "id": "O_FF7-NdtOt9",
        "colab_type": "text"
      },
      "source": [
        "## 画像スタイル変換\n",
        "2つの画像を入力し、新しい画像を生成する\n",
        "\n",
        "![代替テキスト](https://encrypted-tbn0.gstatic.com/images?q=tbn%3AANd9GcR_peinKV3hwaxIgIEg2ZDbUcd9XsQk8NI5HAhMcQMEvMxCYAAy)\n",
        "\n",
        "* ゴッホの描画スタイルを、コンテンツ画像に適用するように指定すれば、ディープラーニングが、指定されたとおりに新しい絵画を描いてくれる。\n",
        "* A Neural Algorithm of Artistic Styleという論文"
      ]
    },
    {
      "cell_type": "markdown",
      "metadata": {
        "id": "KJTsbp_NudHz",
        "colab_type": "text"
      },
      "source": [
        "## 画像生成\n",
        "\n",
        "DCGAN によって新たに生成されたベッドルームの画像 ![代替テキスト](https://qiita-user-contents.imgix.net/https%3A%2F%2Fqiita-image-store.s3.amazonaws.com%2F0%2F67217%2F45999acd-65f7-649a-1136-db1f2f1d6dea.png?ixlib=rb-1.2.2&auto=format&gif-q=60&q=75&s=fae4dc2198ddfef7facb3fb8a18b5cdf)\n",
        "\n",
        "* DCGAN は、Generator(生成する人)と Discriminator(識別する人)の 2 つのニューラルネットワークを利用している。\n"
      ]
    },
    {
      "cell_type": "markdown",
      "metadata": {
        "id": "TdNEvtgGu_4P",
        "colab_type": "text"
      },
      "source": [
        "## 自動運転\n",
        "CNNベースのSegNetは走路環境のセグメンテーションを高精度で行う。\n",
        "\n",
        "\n",
        "![代替テキスト](https://encrypted-tbn0.gstatic.com/images?q=tbn%3AANd9GcRlmWRTULgm9E9rOFssg5_jxs2TQ32K-IQm636tGF59MiPvcf0o)\n",
        "\n",
        "\n"
      ]
    },
    {
      "cell_type": "markdown",
      "metadata": {
        "id": "UF59rrvCmVb-",
        "colab_type": "text"
      },
      "source": [
        "## Deep Q-Network(強化学習)　DQN\n",
        "強化学習では、エージェントと呼ばれるものが、環境の状況に応じて行動を選択し、その行動によって環境が変化するというのが基本的な枠組み。\n",
        "![代替テキスト](https://encrypted-tbn0.gstatic.com/images?q=tbn%3AANd9GcRMacn8NEkjkEM6cFA-TW7OgMV4UyiFxuEQGXxAG9ZQxdYjxqCG)\n",
        "\n",
        "* 環境の変化によって、エージェントは何らかの報酬を得る。強化学習での目的は、より良い報酬が得られるようにエージェントの行動指針を決めるという点にある\n",
        "\n",
        "* AlphaGo が囲碁のチャンピオンを破った。この AlphaGoでも、強化学習が用いられてる。"
      ]
    }
  ]
}